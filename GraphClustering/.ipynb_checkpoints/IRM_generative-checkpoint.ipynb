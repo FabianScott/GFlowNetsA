{
 "cells": [
  {
   "cell_type": "code",
   "execution_count": 77,
   "id": "3654007c",
   "metadata": {},
   "outputs": [],
   "source": [
    "import numpy as np\n",
    "import matplotlib.pyplot as plt\n",
    "\n",
    "def CRP(alpha, N):\n",
    "    clusters = [[1]]\n",
    "    for i in range(2, N + 1):\n",
    "        p = np.random.uniform(0, 1)\n",
    "        probs = np.array([len(cluster) / (i + alpha-1) for cluster in clusters])\n",
    "        cluster_assignment = sum(np.cumsum(probs) < p)\n",
    "\n",
    "        if cluster_assignment == len(clusters):\n",
    "            clusters.append([i])\n",
    "        else:\n",
    "            clusters[cluster_assignment].append(i)\n",
    "\n",
    "    return [len(cluster) for cluster in clusters]\n",
    "\n",
    "    "
   ]
  },
  {
   "cell_type": "code",
   "execution_count": 82,
   "id": "0199b000",
   "metadata": {},
   "outputs": [
    {
     "name": "stdout",
     "output_type": "stream",
     "text": [
      "43.71\n"
     ]
    }
   ],
   "source": [
    "for a in [10]:\n",
    "    lengths=[]\n",
    "    for i in range(100):\n",
    "        zs=CRP(a,800)\n",
    "        lengths.append(len(zs))\n",
    "    print(sum(lengths)/100)"
   ]
  },
  {
   "cell_type": "code",
   "execution_count": 72,
   "id": "66dca538",
   "metadata": {},
   "outputs": [
    {
     "name": "stdout",
     "output_type": "stream",
     "text": [
      "<generator object crpgen at 0x000002A711FB4740>\n"
     ]
    }
   ],
   "source": []
  },
  {
   "cell_type": "code",
   "execution_count": null,
   "id": "58a83bb6",
   "metadata": {},
   "outputs": [],
   "source": []
  },
  {
   "cell_type": "code",
   "execution_count": null,
   "id": "a483a562",
   "metadata": {},
   "outputs": [],
   "source": []
  }
 ],
 "metadata": {
  "kernelspec": {
   "display_name": "Python 3 (ipykernel)",
   "language": "python",
   "name": "python3"
  },
  "language_info": {
   "codemirror_mode": {
    "name": "ipython",
    "version": 3
   },
   "file_extension": ".py",
   "mimetype": "text/x-python",
   "name": "python",
   "nbconvert_exporter": "python",
   "pygments_lexer": "ipython3",
   "version": "3.9.16"
  }
 },
 "nbformat": 4,
 "nbformat_minor": 5
}
