{
 "cells": [
  {
   "cell_type": "code",
   "execution_count": 83,
   "id": "3654007c",
   "metadata": {},
   "outputs": [
    {
     "name": "stdout",
     "output_type": "stream",
     "text": [
      "[16  2  2]\n",
      "[[0.33922864 0.64207986 0.7135154 ]\n",
      " [0.64207986 0.91893238 0.78554234]\n",
      " [0.7135154  0.78554234 0.56287382]]\n"
     ]
    },
    {
     "data": {
      "text/plain": [
       "<matplotlib.image.AxesImage at 0x18a56f05580>"
      ]
     },
     "execution_count": 83,
     "metadata": {},
     "output_type": "execute_result"
    },
    {
     "data": {
      "image/png": "[encoded data removed]",
      "text/plain": [
       "<Figure size 640x480 with 1 Axes>"
      ]
     },
     "metadata": {},
     "output_type": "display_data"
    },
    {
     "data": {
      "image/png": "[encoded data removed]",
      "text/plain": [
       "<Figure size 640x480 with 1 Axes>"
      ]
     },
     "metadata": {},
     "output_type": "display_data"
    }
   ],
   "source": [
    "import numpy as np\n",
    "import matplotlib.pyplot as plt\n",
    "\n",
    "def CRP(alpha, N):\n",
    "    clusters = [[1]]\n",
    "    for i in range(2, N + 1):\n",
    "        p = np.random.uniform(0, 1)\n",
    "        probs = np.array([len(cluster) / (i + alpha-1) for cluster in clusters])\n",
    "        cluster_assignment = sum(np.cumsum(probs) < p)\n",
    "\n",
    "        if cluster_assignment == len(clusters):\n",
    "            clusters.append([i])\n",
    "        else:\n",
    "            clusters[cluster_assignment].append(i)\n",
    "\n",
    "    return np.array([len(cluster) for cluster in clusters])\n",
    "\n",
    "def Phi(clusters):\n",
    "    n = len(clusters)\n",
    "    phis = np.random.beta(1,1,(n,n))\n",
    "    for i in range(n-1,-1,-1):\n",
    "        for j in range(n):\n",
    "            phis[i,j]=phis[j,i]\n",
    "    \n",
    "    return phis\n",
    "\n",
    "def make_block_phis(phis, clusters):\n",
    "    for i, ii in enumerate(clusters):\n",
    "        for j, jj in enumerate(clusters):\n",
    "            if j==0:\n",
    "                A=np.full((ii,jj),phis[i,j])\n",
    "            else:\n",
    "                A=np.hstack((A,np.full((ii,jj),phis[i,j])))\n",
    "\n",
    "        if i==0:\n",
    "            block_phis=A\n",
    "        else:\n",
    "            block_phis=np.vstack((block_phis,A))\n",
    "    \n",
    "    return block_phis\n",
    "\n",
    "def Adj_matrix(phis, clusters):\n",
    "    n=sum(clusters)\n",
    "    Adj_matrix=np.zeros((n,n))\n",
    "    \n",
    "    block_phis=make_block_phis(phis,clusters)\n",
    "    \n",
    "    for i in range(n):\n",
    "        for j in range(n):\n",
    "            p=np.random.rand()\n",
    "            if p<block_phis[i,j]:\n",
    "                Adj_matrix[i,j]=1\n",
    "                Adj_matrix[j,i]=1\n",
    "            else:\n",
    "                Adj_matrix[i,j]=0\n",
    "                Adj_matrix[j,i]=0\n",
    "    \n",
    "    return Adj_matrix\n",
    "\n",
    "clusters=CRP(1,20)\n",
    "phis=Phi(clusters)\n",
    "Adj=Adj_matrix(phis,clusters)\n",
    "print(clusters)\n",
    "print(phis)\n",
    "plt.imshow(Adj)\n",
    "plt.figure()\n",
    "plt.imshow(make_block_phis(phis,clusters))"
   ]
  },
  {
   "cell_type": "code",
   "execution_count": 61,
   "id": "0199b000",
   "metadata": {},
   "outputs": [
    {
     "data": {
      "text/plain": [
       "0.8684087376413194"
      ]
     },
     "execution_count": 61,
     "metadata": {},
     "output_type": "execute_result"
    }
   ],
   "source": [
    "np.random.rand()"
   ]
  },
  {
   "cell_type": "code",
   "execution_count": 58,
   "id": "66dca538",
   "metadata": {},
   "outputs": [
    {
     "name": "stdout",
     "output_type": "stream",
     "text": [
      "(3, 3)\n",
      "(3, 5)\n",
      "(3, 7)\n",
      "(3, 8)\n",
      "(2, 3)\n",
      "(2, 5)\n",
      "(2, 7)\n",
      "(2, 8)\n",
      "(2, 3)\n",
      "(2, 5)\n",
      "(2, 7)\n",
      "(2, 8)\n",
      "(1, 3)\n",
      "(1, 5)\n",
      "(1, 7)\n",
      "(1, 8)\n",
      "[[4 4 4 0 0 0 0 0]\n",
      " [4 4 4 0 0 0 0 0]\n",
      " [4 4 4 0 0 0 0 0]\n",
      " [0 0 0 3 3 0 0 0]\n",
      " [0 0 0 3 3 0 0 0]\n",
      " [0 0 0 0 0 2 2 0]\n",
      " [0 0 0 0 0 2 2 0]\n",
      " [0 0 0 0 0 0 0 1]]\n"
     ]
    }
   ],
   "source": [
    "clusters=np.array([3,2,2,1])\n",
    "phis=np.array([[4,0,0,0],\n",
    "               [0,3,0,0],\n",
    "               [0,0,2,0],\n",
    "               [0,0,0,1]])\n",
    "\n",
    "for i, ii in enumerate(clusters):\n",
    "    for j, jj in enumerate(clusters):\n",
    "        if j==0:\n",
    "            A=np.full((ii,jj),phis[i,j])\n",
    "        else:\n",
    "            A=np.hstack((A,np.full((ii,jj),phis[i,j])))\n",
    "        \n",
    "        print(A.shape)\n",
    "    \n",
    "    if i==0:\n",
    "        B=A\n",
    "    else:\n",
    "        B=np.vstack((B,A))\n",
    "        \n",
    "\n",
    "print(B)"
   ]
  },
  {
   "cell_type": "code",
   "execution_count": 52,
   "id": "58a83bb6",
   "metadata": {},
   "outputs": [
    {
     "data": {
      "text/plain": [
       "[10, 3, 6, 1]"
      ]
     },
     "execution_count": 52,
     "metadata": {},
     "output_type": "execute_result"
    }
   ],
   "source": [
    "clusters"
   ]
  },
  {
   "cell_type": "code",
   "execution_count": null,
   "id": "a483a562",
   "metadata": {},
   "outputs": [],
   "source": []
  }
 ],
 "metadata": {
  "kernelspec": {
   "display_name": "Python 3 (ipykernel)",
   "language": "python",
   "name": "python3"
  },
  "language_info": {
   "codemirror_mode": {
    "name": "ipython",
    "version": 3
   },
   "file_extension": ".py",
   "mimetype": "text/x-python",
   "name": "python",
   "nbconvert_exporter": "python",
   "pygments_lexer": "ipython3",
   "version": "3.9.16"
  }
 },
 "nbformat": 4,
 "nbformat_minor": 5
}
