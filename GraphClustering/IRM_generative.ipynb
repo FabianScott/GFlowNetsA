{
 "cells": [
  {
   "cell_type": "code",
   "execution_count": 84,
   "id": "3654007c",
   "metadata": {},
   "outputs": [],
   "source": [
    "import numpy as np\n",
    "import matplotlib.pyplot as plt\n",
    "\n",
    "# Perform Chinese Restaurant Process\n",
    "def CRP(alpha, N):\n",
    "    # First seating\n",
    "    clusters = [[1]]\n",
    "    for i in range(2, N + 1):\n",
    "        # Calculate cluster assignment as index to the list clusters.\n",
    "        p = np.random.uniform(0, 1)\n",
    "        probs = np.array([len(cluster) / (i + alpha-1) for cluster in clusters])\n",
    "        cluster_assignment = sum(np.cumsum(probs) < p)\n",
    "        \n",
    "        # Make new table or assign to current\n",
    "        if cluster_assignment == len(clusters):\n",
    "            clusters.append([i])\n",
    "        else:\n",
    "            clusters[cluster_assignment].append(i)\n",
    "    \n",
    "    # Return the cluster sizes\n",
    "    return np.array([len(cluster) for cluster in clusters])\n",
    "\n",
    "# Return a symmetric matrix of cluster probabilities,\n",
    "# defined by a beta distribution.\n",
    "def Phi(clusters, a, b):\n",
    "    n = len(clusters)\n",
    "    phis = np.random.beta(a,b,(n,n))\n",
    "    # Symmetrize\n",
    "    for i in range(n-1,-1,-1):\n",
    "        for j in range(n):\n",
    "            phis[i,j]=phis[j,i]\n",
    "    \n",
    "    return phis\n",
    "\n",
    "# Helper function to construct block matrix of cluster probabilities.\n",
    "def make_block_phis(phis, clusters):\n",
    "    for i, ii in enumerate(clusters):\n",
    "        for j, jj in enumerate(clusters):\n",
    "            if j==0:\n",
    "                A=np.full((ii,jj),phis[i,j])\n",
    "            else:\n",
    "                A=np.hstack((A,np.full((ii,jj),phis[i,j])))\n",
    "\n",
    "        if i==0:\n",
    "            block_phis=A\n",
    "        else:\n",
    "            block_phis=np.vstack((block_phis,A))\n",
    "    \n",
    "    return block_phis\n",
    "\n",
    "# Construct adjacency matrix.\n",
    "def Adj_matrix(phis, clusters):\n",
    "    n=sum(clusters)\n",
    "    Adj_matrix=np.zeros((n,n))\n",
    "    \n",
    "    block_phis=make_block_phis(phis,clusters)\n",
    "    \n",
    "    # Iterate over all nodes and cluster probabilities.\n",
    "    for i in range(n):\n",
    "        for j in range(n):\n",
    "            p=np.random.rand()\n",
    "            if p<block_phis[i,j]:\n",
    "                Adj_matrix[i,j]=1\n",
    "                Adj_matrix[j,i]=1\n",
    "            else:\n",
    "                Adj_matrix[i,j]=0\n",
    "                Adj_matrix[j,i]=0\n",
    "    \n",
    "    return Adj_matrix\n",
    "\n"
   ]
  },
  {
   "cell_type": "code",
   "execution_count": 86,
   "id": "60bc0974",
   "metadata": {},
   "outputs": [
    {
     "name": "stdout",
     "output_type": "stream",
     "text": [
      "[18  1  1]\n",
      "[[5.74523779e-01 2.14996410e-02 2.26529628e-05]\n",
      " [2.14996410e-02 3.94064845e-01 6.62991635e-01]\n",
      " [2.26529628e-05 6.62991635e-01 6.13934094e-01]]\n"
     ]
    },
    {
     "data": {
      "text/plain": [
       "<matplotlib.image.AxesImage at 0x18a56fc61c0>"
      ]
     },
     "execution_count": 86,
     "metadata": {},
     "output_type": "execute_result"
    },
    {
     "data": {
      "image/png": "[encoded data removed]",
      "text/plain": [
       "<Figure size 640x480 with 1 Axes>"
      ]
     },
     "metadata": {},
     "output_type": "display_data"
    },
    {
     "data": {
      "image/png": "[encoded data removed]",
      "text/plain": [
       "<Figure size 640x480 with 1 Axes>"
      ]
     },
     "metadata": {},
     "output_type": "display_data"
    }
   ],
   "source": [
    "clusters=CRP(1,20)\n",
    "phis=Phi(clusters,0.5,0.5)\n",
    "Adj=Adj_matrix(phis,clusters)\n",
    "print(clusters)\n",
    "print(phis)\n",
    "plt.imshow(Adj)\n",
    "plt.figure()\n",
    "plt.imshow(make_block_phis(phis,clusters))"
   ]
  },
  {
   "cell_type": "code",
   "execution_count": null,
   "id": "327c84f0",
   "metadata": {},
   "outputs": [],
   "source": []
  }
 ],
 "metadata": {
  "kernelspec": {
   "display_name": "Python 3 (ipykernel)",
   "language": "python",
   "name": "python3"
  },
  "language_info": {
   "codemirror_mode": {
    "name": "ipython",
    "version": 3
   },
   "file_extension": ".py",
   "mimetype": "text/x-python",
   "name": "python",
   "nbconvert_exporter": "python",
   "pygments_lexer": "ipython3",
   "version": "3.9.16"
  }
 },
 "nbformat": 4,
 "nbformat_minor": 5
}
