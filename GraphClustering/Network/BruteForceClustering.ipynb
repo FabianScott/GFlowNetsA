{
 "cells": [
  {
   "cell_type": "code",
   "execution_count": 1,
   "id": "37805efb",
   "metadata": {},
   "outputs": [],
   "source": [
    "import numpy as np\n",
    "import matplotlib.pyplot as plt\n",
    "import torch\n",
    "from GraphClustering import GraphNet\n",
    "from GraphClustering import IRM_graph, clusterIndex\n",
    "from GraphClustering import Cmatrix_to_array, torch_posterior\n",
    "\n",
    "# Giver samtlige mulige clusterings i form af\n",
    "# nul-indekserede cluster arrays. Bell numbers.\n",
    "def allPermutations(n):\n",
    "    perm = [[[1]]]\n",
    "    for i in range(n-1):\n",
    "        perm.append([])\n",
    "        for partial in perm[i]:\n",
    "            for j in range(1, max(partial) + 2):\n",
    "                perm[i + 1].append(partial + [j])\n",
    "\n",
    "    return np.array(perm[-1])-1"
   ]
  },
  {
   "cell_type": "code",
   "execution_count": 2,
   "id": "2655dbeb",
   "metadata": {},
   "outputs": [
    {
     "name": "stdout",
     "output_type": "stream",
     "text": [
      "tensor([0., 0., 0., 0., 0., 1., 1., 1., 1., 2.])\n"
     ]
    },
    {
     "data": {
      "image/png": "[encoded data removed]",
      "text/plain": [
       "<Figure size 640x480 with 1 Axes>"
      ]
     },
     "metadata": {},
     "output_type": "display_data"
    }
   ],
   "source": [
    "# Making the graph, and outputting cluster indexes.\n",
    "N =  10\n",
    "adjacency_matrix, clusters = IRM_graph(3, 0.5, 0.5, N = N)\n",
    "cluster_idxs = clusterIndex(clusters)\n",
    "plt.imshow(adjacency_matrix)\n",
    "print(cluster_idxs)"
   ]
  },
  {
   "cell_type": "code",
   "execution_count": 46,
   "id": "9bd51af9",
   "metadata": {},
   "outputs": [],
   "source": [
    "# Computing posteriors for all clusters.\n",
    "clusters_all = allPermutations(N)\n",
    "clusters_all_post = []\n",
    "for cluster in clusters_all:\n",
    "    posterior = (torch_posterior(adjacency_matrix, cluster, a=torch.tensor([0.5]), b=torch.tensor([0.5]), alpha = 3, log=True))\n",
    "    clusters_all_post.append(posterior)"
   ]
  },
  {
   "cell_type": "code",
   "execution_count": 47,
   "id": "4da1caed",
   "metadata": {},
   "outputs": [
    {
     "data": {
      "image/png": "[encoded data removed]",
      "text/plain": [
       "<Figure size 640x480 with 1 Axes>"
      ]
     },
     "metadata": {},
     "output_type": "display_data"
    }
   ],
   "source": [
    "# Making histogram, not using inf values\n",
    "cluster_post_noinf = np.array([post for post in clusters_all_post if not abs(post)==np.inf])\n",
    "plt.hist(cluster_post_noinf, bins=30)\n",
    "plt.show()"
   ]
  },
  {
   "cell_type": "code",
   "execution_count": 48,
   "id": "646f48ac",
   "metadata": {},
   "outputs": [
    {
     "name": "stdout",
     "output_type": "stream",
     "text": [
      "Total possible clusters: 115975\n",
      "Ground truth: [0.0, 0.0, 0.0, 1.0, 1.0, 2.0, 2.0, 3.0, 4.0, 5.0]\n",
      "Top clusterings:\n",
      "1: [0 1 1 1 1 1 1 1 1 1]\n",
      "2: [0 0 0 0 0 1 0 0 0 0]\n",
      "3: [0 0 1 1 1 1 1 1 1 1]\n",
      "4: [0 0 0 0 1 0 0 0 0 0]\n",
      "5: [0 0 0 0 0 0 0 0 1 0]\n",
      "6: [0 1 0 0 0 0 0 0 0 0]\n",
      "7: [0 0 0 1 1 0 0 0 1 0]\n",
      "8: [0 0 0 1 1 1 0 0 1 0]\n",
      "9: [0 1 0 1 1 1 1 1 1 1]\n",
      "10: [0 0 1 0 0 0 0 0 0 0]\n"
     ]
    }
   ],
   "source": [
    "# Results\n",
    "sortidxs=np.argsort(clusters_all_post)\n",
    "top = 10\n",
    "print(\"Total possible clusters: \"+str(len(sortidxs)))\n",
    "print(\"Ground truth: \"+str(cluster_idxs.tolist()))\n",
    "print(\"Top clusterings:\")\n",
    "for i, idx in enumerate(np.flip(sortidxs)[:top]):\n",
    "    print(str(i+1)+\": \"+str(clusters_all[idx]))"
   ]
  },
  {
   "cell_type": "code",
   "execution_count": 49,
   "id": "53aa75fd",
   "metadata": {},
   "outputs": [
    {
     "name": "stderr",
     "output_type": "stream",
     "text": [
      "100%|████████████████████████████████████████████████████████████████████████████████| 100/100 [00:07<00:00, 12.61it/s]\n",
      "100%|██████████████████████████████████████████████████████████████████████████████████| 50/50 [06:49<00:00,  8.19s/it]\n"
     ]
    }
   ],
   "source": [
    "# Training\n",
    "net = GraphNet(n_nodes=adjacency_matrix.size()[0])\n",
    "X = net.sample_forward(adjacency_matrix=adjacency_matrix)\n",
    "net.train(X, epochs=50)"
   ]
  },
  {
   "cell_type": "code",
   "execution_count": 50,
   "id": "90c2a9cc",
   "metadata": {},
   "outputs": [
    {
     "name": "stderr",
     "output_type": "stream",
     "text": [
      "100%|████████████████████████████████████████████████████████████████████████████████| 100/100 [00:14<00:00,  6.72it/s]\n",
      "100%|████████████████████████████████████████████████████████████████████████████████| 100/100 [00:14<00:00,  6.74it/s]\n",
      "100%|████████████████████████████████████████████████████████████████████████████████| 100/100 [00:15<00:00,  6.63it/s]\n",
      "100%|████████████████████████████████████████████████████████████████████████████████| 100/100 [00:14<00:00,  6.88it/s]\n",
      "100%|████████████████████████████████████████████████████████████████████████████████| 100/100 [00:14<00:00,  6.80it/s]\n",
      "100%|████████████████████████████████████████████████████████████████████████████████| 100/100 [00:14<00:00,  6.92it/s]\n",
      "100%|████████████████████████████████████████████████████████████████████████████████| 100/100 [00:14<00:00,  6.88it/s]\n",
      "100%|████████████████████████████████████████████████████████████████████████████████| 100/100 [00:14<00:00,  6.78it/s]\n",
      "100%|████████████████████████████████████████████████████████████████████████████████| 100/100 [00:14<00:00,  6.72it/s]\n",
      "100%|████████████████████████████████████████████████████████████████████████████████| 100/100 [00:14<00:00,  6.67it/s]\n"
     ]
    }
   ],
   "source": [
    "# Sample\n",
    "# net.termination_chance = 0\n",
    "X_1000 = []\n",
    "for i in range(10):\n",
    "    X = net.sample_forward(adjacency_matrix)\n",
    "    for x in X:\n",
    "        clustering = net.get_matrices_from_state(x)[1]\n",
    "        X_1000.append(torch_posterior(adjacency_matrix, net.get_clustering_list(clustering)[0],\n",
    "                                        a=torch.tensor([0.5]), b=torch.tensor([0.5]), alpha = 3, log=True)) "
   ]
  },
  {
   "cell_type": "code",
   "execution_count": 36,
   "id": "a8782e6e",
   "metadata": {},
   "outputs": [
    {
     "data": {
      "text/plain": [
       "tensor([1., 0., 2., 3., 1., 1., 2., 4., 4., 1.])"
      ]
     },
     "execution_count": 36,
     "metadata": {},
     "output_type": "execute_result"
    }
   ],
   "source": [
    "net.get_clustering_list(clustering)[0]"
   ]
  },
  {
   "cell_type": "code",
   "execution_count": 51,
   "id": "9c5f33b4",
   "metadata": {},
   "outputs": [
    {
     "data": {
      "text/plain": [
       "[tensor(-448.0228, dtype=torch.float64),\n",
       " tensor(-460.1618, dtype=torch.float64),\n",
       " tensor(-674.9656, dtype=torch.float64),\n",
       " tensor(-450.1552, dtype=torch.float64),\n",
       " tensor(-451.4984, dtype=torch.float64),\n",
       " tensor(-462.0497, dtype=torch.float64),\n",
       " tensor(-435.2041, dtype=torch.float64),\n",
       " tensor(-450.0792, dtype=torch.float64),\n",
       " tensor(-457.7919, dtype=torch.float64),\n",
       " tensor(-456.5157, dtype=torch.float64),\n",
       " tensor(-548.3553, dtype=torch.float64),\n",
       " tensor(-483.1275, dtype=torch.float64),\n",
       " tensor(-565.1363, dtype=torch.float64),\n",
       " tensor(-580.4575, dtype=torch.float64),\n",
       " tensor(-295.2716, dtype=torch.float64),\n",
       " tensor(-563.7297, dtype=torch.float64),\n",
       " tensor(-295.2550, dtype=torch.float64),\n",
       " tensor(-552.4110, dtype=torch.float64),\n",
       " tensor(-287.3735, dtype=torch.float64),\n",
       " tensor(-566.9317, dtype=torch.float64),\n",
       " tensor(-297.4503, dtype=torch.float64),\n",
       " tensor(-447.4915, dtype=torch.float64),\n",
       " tensor(-35.9584, dtype=torch.float64),\n",
       " tensor(-446.1136, dtype=torch.float64),\n",
       " tensor(-457.5901, dtype=torch.float64),\n",
       " tensor(-659.7814, dtype=torch.float64),\n",
       " tensor(-566.3139, dtype=torch.float64),\n",
       " tensor(-571.8814, dtype=torch.float64),\n",
       " tensor(-452.4883, dtype=torch.float64),\n",
       " tensor(-451.4726, dtype=torch.float64),\n",
       " tensor(-564.2323, dtype=torch.float64),\n",
       " tensor(-457.0340, dtype=torch.float64),\n",
       " tensor(-804.5788, dtype=torch.float64),\n",
       " tensor(-641.5994, dtype=torch.float64),\n",
       " tensor(-674.2321, dtype=torch.float64),\n",
       " tensor(-576.9045, dtype=torch.float64),\n",
       " tensor(-295.0948, dtype=torch.float64),\n",
       " tensor(-445.9795, dtype=torch.float64),\n",
       " tensor(-295.9157, dtype=torch.float64),\n",
       " tensor(-643.8134, dtype=torch.float64),\n",
       " tensor(-566.9074, dtype=torch.float64),\n",
       " tensor(-446.3988, dtype=torch.float64),\n",
       " tensor(-797.9871, dtype=torch.float64),\n",
       " tensor(-569.9681, dtype=torch.float64),\n",
       " tensor(-556.6190, dtype=torch.float64),\n",
       " tensor(-667.7010, dtype=torch.float64),\n",
       " tensor(-548.4730, dtype=torch.float64),\n",
       " tensor(-633.4391, dtype=torch.float64),\n",
       " tensor(-461.5132, dtype=torch.float64),\n",
       " tensor(-545.3888, dtype=torch.float64)]"
      ]
     },
     "execution_count": 51,
     "metadata": {},
     "output_type": "execute_result"
    }
   ],
   "source": [
    "X_1000[:50]"
   ]
  },
  {
   "cell_type": "code",
   "execution_count": 52,
   "id": "4697eb89",
   "metadata": {},
   "outputs": [
    {
     "data": {
      "image/png": "[encoded data removed]",
      "text/plain": [
       "<Figure size 640x480 with 1 Axes>"
      ]
     },
     "metadata": {},
     "output_type": "display_data"
    }
   ],
   "source": [
    "plt.hist(X_1000, bins=30)\n",
    "plt.show()"
   ]
  },
  {
   "cell_type": "code",
   "execution_count": 53,
   "id": "fe2f43a3",
   "metadata": {},
   "outputs": [
    {
     "data": {
      "image/png": "[encoded data removed]",
      "text/plain": [
       "<Figure size 640x480 with 1 Axes>"
      ]
     },
     "metadata": {},
     "output_type": "display_data"
    }
   ],
   "source": [
    "plt.hist(cluster_post_noinf, bins=30)\n",
    "plt.show()"
   ]
  },
  {
   "cell_type": "code",
   "execution_count": 56,
   "id": "c27d8247",
   "metadata": {},
   "outputs": [
    {
     "name": "stdout",
     "output_type": "stream",
     "text": [
      "Brute: 0.00440616000137962, vs. GFlow: 0.008\n"
     ]
    }
   ],
   "source": [
    "bestB = np.mean(cluster_post_noinf>-100)\n",
    "bestG = np.mean(np.array(X_1000)>-100)\n",
    "\n",
    "print(f'Brute: {bestB}, vs. GFlow: {bestG}')"
   ]
  },
  {
   "cell_type": "code",
   "execution_count": null,
   "metadata": {
    "collapsed": false
   },
   "outputs": [],
   "source": [
    "net.get_all_probs(adjacency_matrix, save='FinalProbDict.pth')"
   ]
  },
  {
   "cell_type": "code",
   "execution_count": null,
   "metadata": {
    "collapsed": false
   },
   "outputs": [],
   "source": [
    "final_dict = torch.load('FinalProbDict.pth')"
   ]
  }
 ],
 "metadata": {
  "kernelspec": {
   "display_name": "Python 3 (ipykernel)",
   "language": "python",
   "name": "python3"
  },
  "language_info": {
   "codemirror_mode": {
    "name": "ipython",
    "version": 3
   },
   "file_extension": ".py",
   "mimetype": "text/x-python",
   "name": "python",
   "nbconvert_exporter": "python",
   "pygments_lexer": "ipython3",
   "version": "3.9.16"
  }
 },
 "nbformat": 4,
 "nbformat_minor": 5
}
