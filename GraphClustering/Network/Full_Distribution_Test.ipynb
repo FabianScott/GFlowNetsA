{
 "cells": [
  {
   "cell_type": "code",
   "execution_count": 1,
   "metadata": {
    "pycharm": {
     "is_executing": true
    }
   },
   "outputs": [
    {
     "name": "stdout",
     "output_type": "stream",
     "text": [
      "C:\\Users\\toell\\OneDrive\\Documents\\GitHub\\GFlowNetsA\\GraphClustering\\Network\n"
     ]
    }
   ],
   "source": [
    "import os\n",
    "print(os.getcwd()) # You should be running this from the GFlowNetsA directory, unless using Pycharm where it works just fine\n",
    "import numpy as np\n",
    "import torch\n",
    "import matplotlib.pyplot as plt\n",
    "try:\n",
    "    from GraphClustering import GraphNet\n",
    "    from GraphClustering.Core.Core import allPermutations\n",
    "    # print(\"All my friends hate hate Core GraphNet\")\n",
    "    # from GraphClustering.Network.Network import GraphNet # This worries me. There is an outdated version of Graphnet in Core. \n",
    "except: # Do not change this if it is unnecessary for you. Directly picking the cwd for jupyter notebooks can be a massive hassle in VSCode.\n",
    "    print(\"Previous import statement didn't work. Changing cwd to parent directory.\") # \n",
    "    for _ in range(4):\n",
    "        print(\"Stepping one directory up.\")\n",
    "        try:\n",
    "            os.chdir(\"..\")\n",
    "            print(os.getcwd())\n",
    "            from GraphClustering import GraphNet\n",
    "            from GraphClustering.Core.Core import allPermutations\n",
    "            print(\"Successful import.\")\n",
    "            break\n",
    "        except:\n",
    "            pass\n",
    "from GraphClustering import IRM_graph, clusterIndex\n",
    "from GraphClustering import Cmatrix_to_array, torch_posterior\n"
   ]
  },
  {
   "cell_type": "code",
   "execution_count": 2,
   "metadata": {},
   "outputs": [],
   "source": [
    "# I could just install nbimporter to import this function. Now in Core\n",
    "# def allPermutations(n):\n",
    "#     \"\"\"\n",
    "#     Return a list of all possible permutations of clustering\n",
    "#     lists for a graph with n nodes\n",
    "#     :param n: int\n",
    "#     :return: numpy array\n",
    "#     \"\"\"\n",
    "#     perm = [[[1]]]\n",
    "#     for i in range(n-1):\n",
    "#         perm.append([])\n",
    "#         for partial in perm[i]:\n",
    "#             for j in range(1, max(partial) + 2):\n",
    "#                 perm[i + 1].append(partial + [j])\n",
    "#\n",
    "#     return np.array(perm[-1])-1"
   ]
  },
  {
   "cell_type": "code",
   "execution_count": 3,
   "metadata": {},
   "outputs": [
    {
     "name": "stdout",
     "output_type": "stream",
     "text": [
      "tensor([0., 1., 2.])\n"
     ]
    },
    {
     "data": {
      "image/png": "[encoded data removed]",
      "text/plain": [
       "<Figure size 640x480 with 1 Axes>"
      ]
     },
     "metadata": {},
     "output_type": "display_data"
    }
   ],
   "source": [
    "# Making the graph, and outputting cluster indexes.\n",
    "N =  3\n",
    "a, b, alpha = 0.5, 0.5, 3\n",
    "log = True\n",
    "adjacency_matrix, clusters = IRM_graph(alpha = alpha, a = a, b = b, N = N)\n",
    "cluster_idxs = clusterIndex(clusters)\n",
    "clusters = len(clusters)\n",
    "plt.imshow(adjacency_matrix)\n",
    "print(cluster_idxs)\n",
    "\n",
    "net = GraphNet(n_nodes=adjacency_matrix.size()[0], a = a, b = b, alpha = alpha)"
   ]
  },
  {
   "cell_type": "code",
   "execution_count": 4,
   "metadata": {},
   "outputs": [
    {
     "name": "stderr",
     "output_type": "stream",
     "text": [
      "C:\\Users\\toell\\AppData\\Local\\Temp\\ipykernel_43444\\3666193341.py:6: UserWarning: To copy construct from a tensor, it is recommended to use sourceTensor.clone().detach() or sourceTensor.clone().detach().requires_grad_(True), rather than torch.tensor(sourceTensor).\n",
      "  clustering_matrix = net.get_clustering_matrix(torch.tensor(cluster_idxs+1), torch.tensor(clusters))\n"
     ]
    },
    {
     "name": "stdout",
     "output_type": "stream",
     "text": [
      "tensor([1., 2., 3.])\n"
     ]
    },
    {
     "data": {
      "image/png": "[encoded data removed]",
      "text/plain": [
       "<Figure size 640x480 with 1 Axes>"
      ]
     },
     "metadata": {},
     "output_type": "display_data"
    },
    {
     "name": "stdout",
     "output_type": "stream",
     "text": [
      "tensor([1., 2., 3.])\n"
     ]
    }
   ],
   "source": [
    "idxs = torch.randperm(N, dtype=torch.int64)\n",
    "A_random = adjacency_matrix[idxs][:, idxs]\n",
    "\n",
    "# print(torch.tensor(cluster_idxs))\n",
    "# print(torch.tensor(clusters))\n",
    "clustering_matrix = net.get_clustering_matrix(torch.tensor(cluster_idxs+1), torch.tensor(clusters))\n",
    "# plt.figure()\n",
    "# plt.imshow(clustering_matrix)\n",
    "# plt.show()\n",
    "cluster_random, cluster_num = net.get_clustering_list(clustering_matrix[idxs][:, idxs])\n",
    "print(cluster_random)\n",
    "\n",
    "plt.figure()\n",
    "plt.imshow(A_random)\n",
    "plt.show()\n",
    "print(cluster_random)"
   ]
  },
  {
   "cell_type": "code",
   "execution_count": 5,
   "metadata": {},
   "outputs": [],
   "source": [
    "# Computing posteriors for all clusters.\n",
    "clusters_all = allPermutations(N)\n",
    "Bell = len(clusters_all)\n",
    "clusters_all_post = np.zeros(Bell)\n",
    "for i, cluster in enumerate(clusters_all):\n",
    "    posterior = (torch_posterior(adjacency_matrix, cluster, a=torch.tensor(a), b=torch.tensor(b), alpha = torch.tensor(alpha), log=True))\n",
    "    clusters_all_post[i] = posterior"
   ]
  },
  {
   "cell_type": "code",
   "execution_count": 6,
   "metadata": {},
   "outputs": [
    {
     "name": "stdout",
     "output_type": "stream",
     "text": [
      "[-4.47733736 -4.17723227 -6.37445688 -6.37445688 -5.96899176]\n",
      "[-1.056053   -0.7559479  -2.95317252 -2.95317252 -2.54770739]\n",
      "[[0 0 0]\n",
      " [0 0 1]\n",
      " [0 1 0]\n",
      " [0 1 1]\n",
      " [0 1 2]]\n"
     ]
    },
    {
     "data": {
      "image/png": "[encoded data removed]",
      "text/plain": [
       "<Figure size 640x480 with 1 Axes>"
      ]
     },
     "metadata": {},
     "output_type": "display_data"
    },
    {
     "name": "stdout",
     "output_type": "stream",
     "text": [
      "[[0 1 0]\n",
      " [0 1 1]\n",
      " [0 1 2]\n",
      " [0 0 0]\n",
      " [0 0 1]]\n"
     ]
    },
    {
     "data": {
      "image/png": "[encoded data removed]",
      "text/plain": [
       "<Figure size 640x480 with 1 Axes>"
      ]
     },
     "metadata": {},
     "output_type": "display_data"
    }
   ],
   "source": [
    "print(clusters_all_post)\n",
    "# cluster_post = np.exp(clusters_all_post)/np.sum(np.exp(clusters_all_post)) # Numpy can handle -np.inf. This might stop working when many of the probabilities underflow.\n",
    "from scipy.special import logsumexp\n",
    "cluster_post = clusters_all_post - logsumexp(clusters_all_post) # Normalize them into proper log probabilities\n",
    "if not log: cluster_post = np.exp(cluster_post)\n",
    "print(cluster_post)\n",
    "\n",
    "print(clusters_all)\n",
    "f = plt.figure()\n",
    "plt.title('Cluster Posterior Probabilites by Index')\n",
    "plt.plot(cluster_post, \"o\")\n",
    "plt.xlabel(\"Cluster Index\")\n",
    "plt.ylabel(\"Posterior Probability\")\n",
    "plt.show()\n",
    "\n",
    "sort_idx = np.argsort(cluster_post)\n",
    "print(clusters_all[sort_idx])\n",
    "f = plt.figure()\n",
    "plt.title('Cluster Posterior Probabilites by Magnitude')\n",
    "plt.plot(cluster_post[sort_idx], \"o\")\n",
    "plt.xlabel(\"Cluster Index\")\n",
    "plt.ylabel(\"Posterior Probability\")\n",
    "plt.show()"
   ]
  },
  {
   "cell_type": "code",
   "execution_count": 7,
   "metadata": {},
   "outputs": [
    {
     "name": "stdout",
     "output_type": "stream",
     "text": [
      "Total possible clusters: 5\n",
      "Ground truth: [0.0, 1.0, 2.0]\n",
      "Top clusterings:\n",
      "1: [0 0 1]\n",
      "2: [0 0 0]\n",
      "3: [0 1 2]\n",
      "4: [0 1 1]\n",
      "5: [0 1 0]\n"
     ]
    }
   ],
   "source": [
    "# Results\n",
    "sortidxs=np.argsort(clusters_all_post)\n",
    "top = 10\n",
    "print(\"Total possible clusters: \"+str(len(sortidxs)))\n",
    "print(\"Ground truth: \"+str(cluster_idxs.tolist()))\n",
    "print(\"Top clusterings:\")\n",
    "for i, idx in enumerate(np.flip(sortidxs)[:top]):\n",
    "    print(str(i+1)+\": \"+str(clusters_all[idx]))"
   ]
  },
  {
   "cell_type": "code",
   "execution_count": 8,
   "metadata": {},
   "outputs": [
    {
     "name": "stderr",
     "output_type": "stream",
     "text": [
      "  0%|          | 0/100 [00:00<?, ?it/s]C:\\Users\\toell\\OneDrive\\Documents\\GitHub\\GFlowNetsA\\GraphClustering\\Core\\Core.py:296: UserWarning: To copy construct from a tensor, it is recommended to use sourceTensor.clone().detach() or sourceTensor.clone().detach().requires_grad_(True), rather than torch.tensor(sourceTensor).\n",
      "  clustering_list[node_chosen] = torch.tensor(cluster_index_chosen + 1, dtype=torch.float32)\n",
      "100%|██████████| 100/100 [00:02<00:00, 40.93it/s]\n",
      "100%|██████████| 2/2 [00:03<00:00,  1.89s/it]\n"
     ]
    }
   ],
   "source": [
    "X = net.sample_forward(adjacency_matrix=A_random)\n",
    "net.train(X, epochs=2)"
   ]
  },
  {
   "cell_type": "code",
   "execution_count": 9,
   "metadata": {},
   "outputs": [
    {
     "name": "stdout",
     "output_type": "stream",
     "text": [
      "Warning: The state representation in this function does not include the last node placed.\n",
      "Warning: Because this function has to sum small probabilities, it will likely experience underflow even for meagre graphs.\n",
      "Warning: You are embarking on the long and arduous journey of calculating all the forward sample probabilities exactly. This might take a while.\n"
     ]
    },
    {
     "name": "stderr",
     "output_type": "stream",
     "text": [
      "100%|██████████| 3/3 [00:00<00:00,  7.07it/s]\n"
     ]
    }
   ],
   "source": [
    "cluster_prob_dict, fixed_probs = net.full_sample_distribution_G(adjacency_matrix = A_random, log = True, fix=True)"
   ]
  },
  {
   "cell_type": "code",
   "execution_count": null,
   "metadata": {},
   "outputs": [],
   "source": [
    "\n",
    "net_probs = [float(value) for key, value in cluster_prob_dict[-1].items()]\n",
    "f = plt.figure()\n",
    "plt.title('Cluster Posterior Probabilites by Magnitude')\n",
    "plt.plot(net_probs, \"o\")\n",
    "plt.xlabel(\"Cluster Index\")\n",
    "plt.ylabel(\"Posterior Probability\")\n",
    "plt.show()"
   ]
  },
  {
   "cell_type": "code",
   "execution_count": 10,
   "metadata": {},
   "outputs": [
    {
     "data": {
      "text/plain": [
       "[{tensor([0., 0., 0.]): 0},\n",
       " defaultdict(<function GraphClustering.Core.Core.GraphNet.full_sample_distribution_G.<locals>.<listcomp>.<lambda>()>,\n",
       "             {tensor([1., 0., 0.]): tensor(-1.1021, grad_fn=<AddBackward0>),\n",
       "              tensor([0., 1., 0.]): tensor(-1.0882, grad_fn=<AddBackward0>),\n",
       "              tensor([0., 0., 1.]): tensor(-1.1057, grad_fn=<AddBackward0>)}),\n",
       " defaultdict(<function GraphClustering.Core.Core.GraphNet.full_sample_distribution_G.<locals>.<listcomp>.<lambda>()>,\n",
       "             {tensor([1., 1., 0.]): tensor(-2.4824, grad_fn=<AddBackward0>),\n",
       "              tensor([1., 2., 0.]): tensor(-2.4812, grad_fn=<AddBackward0>),\n",
       "              tensor([1., 0., 1.]): tensor(-2.4943, grad_fn=<AddBackward0>),\n",
       "              tensor([1., 0., 2.]): tensor(-2.4957, grad_fn=<AddBackward0>),\n",
       "              tensor([1., 1., 0.]): tensor(-2.4865, grad_fn=<AddBackward0>),\n",
       "              tensor([1., 2., 0.]): tensor(-2.4853, grad_fn=<AddBackward0>),\n",
       "              tensor([0., 1., 1.]): tensor(-2.4584, grad_fn=<AddBackward0>),\n",
       "              tensor([0., 1., 2.]): tensor(-2.4679, grad_fn=<AddBackward0>),\n",
       "              tensor([1., 0., 1.]): tensor(-2.5094, grad_fn=<AddBackward0>),\n",
       "              tensor([1., 0., 2.]): tensor(-2.5108, grad_fn=<AddBackward0>),\n",
       "              tensor([0., 1., 1.]): tensor(-2.4694, grad_fn=<AddBackward0>),\n",
       "              tensor([0., 1., 2.]): tensor(-2.4789, grad_fn=<AddBackward0>)}),\n",
       " defaultdict(<function GraphClustering.Core.Core.GraphNet.full_sample_distribution_G.<locals>.<listcomp>.<lambda>()>,\n",
       "             {tensor([1., 1., 1.]): tensor(-3.1652, grad_fn=<AddBackward0>),\n",
       "              tensor([1., 1., 2.]): tensor(-3.1860, grad_fn=<AddBackward0>),\n",
       "              tensor([1., 2., 1.]): tensor(-3.5784, grad_fn=<AddBackward0>),\n",
       "              tensor([1., 2., 2.]): tensor(-3.5758, grad_fn=<AddBackward0>),\n",
       "              tensor([1., 2., 3.]): tensor(-3.5853, grad_fn=<AddBackward0>),\n",
       "              tensor([1., 1., 1.]): tensor(-3.1889, grad_fn=<AddBackward0>),\n",
       "              tensor([1., 2., 1.]): tensor(-3.1860, grad_fn=<AddBackward0>),\n",
       "              tensor([1., 1., 2.]): tensor(-3.6087, grad_fn=<AddBackward0>),\n",
       "              tensor([1., 2., 2.]): tensor(-3.5824, grad_fn=<AddBackward0>),\n",
       "              tensor([1., 2., 3.]): tensor(-3.5919, grad_fn=<AddBackward0>),\n",
       "              tensor([1., 1., 1.]): tensor(-3.1693, grad_fn=<AddBackward0>),\n",
       "              tensor([1., 1., 2.]): tensor(-3.1901, grad_fn=<AddBackward0>),\n",
       "              tensor([1., 2., 1.]): tensor(-3.5825, grad_fn=<AddBackward0>),\n",
       "              tensor([1., 2., 2.]): tensor(-3.5799, grad_fn=<AddBackward0>),\n",
       "              tensor([1., 2., 3.]): tensor(-3.5894, grad_fn=<AddBackward0>),\n",
       "              tensor([1., 1., 1.]): tensor(-3.1543, grad_fn=<AddBackward0>),\n",
       "              tensor([1., 2., 2.]): tensor(-3.1488, grad_fn=<AddBackward0>),\n",
       "              tensor([1., 1., 2.]): tensor(-3.5801, grad_fn=<AddBackward0>),\n",
       "              tensor([1., 2., 1.]): tensor(-3.5563, grad_fn=<AddBackward0>),\n",
       "              tensor([1., 2., 3.]): tensor(-3.5632, grad_fn=<AddBackward0>),\n",
       "              tensor([1., 1., 1.]): tensor(-3.2041, grad_fn=<AddBackward0>),\n",
       "              tensor([1., 2., 1.]): tensor(-3.2011, grad_fn=<AddBackward0>),\n",
       "              tensor([1., 1., 2.]): tensor(-3.6239, grad_fn=<AddBackward0>),\n",
       "              tensor([1., 2., 2.]): tensor(-3.5976, grad_fn=<AddBackward0>),\n",
       "              tensor([1., 2., 3.]): tensor(-3.6070, grad_fn=<AddBackward0>),\n",
       "              tensor([1., 1., 1.]): tensor(-3.1653, grad_fn=<AddBackward0>),\n",
       "              tensor([1., 2., 2.]): tensor(-3.1598, grad_fn=<AddBackward0>),\n",
       "              tensor([1., 1., 2.]): tensor(-3.5911, grad_fn=<AddBackward0>),\n",
       "              tensor([1., 2., 1.]): tensor(-3.5674, grad_fn=<AddBackward0>),\n",
       "              tensor([1., 2., 3.]): tensor(-3.5743, grad_fn=<AddBackward0>)})]"
      ]
     },
     "execution_count": 10,
     "metadata": {},
     "output_type": "execute_result"
    }
   ],
   "source": [
    "cluster_prob_dict"
   ]
  },
  {
   "cell_type": "code",
   "execution_count": 30,
   "metadata": {},
   "outputs": [],
   "source": [
    "import torch\n",
    "from GraphClustering.Core.Core import torch_posterior"
   ]
  },
  {
   "cell_type": "code",
   "execution_count": 29,
   "metadata": {},
   "outputs": [
    {
     "data": {
      "text/plain": [
       "Parameter containing:\n",
       "tensor([0.0191], requires_grad=True)"
      ]
     },
     "execution_count": 29,
     "metadata": {},
     "output_type": "execute_result"
    }
   ],
   "source": [
    "net.get_matrices_from_state(X[2])\n",
    "net.z0"
   ]
  },
  {
   "cell_type": "code",
   "execution_count": 18,
   "metadata": {},
   "outputs": [
    {
     "data": {
      "text/plain": [
       "Parameter containing:\n",
       "tensor([0.0191], requires_grad=True)"
      ]
     },
     "execution_count": 18,
     "metadata": {},
     "output_type": "execute_result"
    }
   ],
   "source": [
    "net.z0"
   ]
  },
  {
   "cell_type": "code",
   "execution_count": 80,
   "metadata": {},
   "outputs": [
    {
     "name": "stdout",
     "output_type": "stream",
     "text": [
      "Unexpected exception formatting exception. Falling back to standard exception\n"
     ]
    },
    {
     "name": "stderr",
     "output_type": "stream",
     "text": [
      "Traceback (most recent call last):\n",
      "  File \"C:\\Users\\toell\\OneDrive\\Documents\\GitHub\\GFlowNetsA\\venv\\lib\\site-packages\\IPython\\core\\interactiveshell.py\", line 3460, in run_code\n",
      "    exec(code_obj, self.user_global_ns, self.user_ns)\n",
      "  File \"C:\\Users\\toell\\AppData\\Local\\Temp\\ipykernel_14828\\874826652.py\", line 3, in <module>\n",
      "    net.log_sum_flows(X[n]), torch_posterior(A1, C1)\n",
      "  File \"C:\\Users\\toell\\OneDrive\\Documents\\GitHub\\GFlowNetsA\\GraphClustering\\Core\\Core.py\", line 654, in torch_posterior\n",
      "    C = torch.t_copy(torch.tensor(C_in, dtype=torch.int64))\n",
      "  File \"C:\\Users\\toell\\OneDrive\\Documents\\GitHub\\GFlowNetsA\\venv\\lib\\site-packages\\torch\\functional.py\", line 378, in einsum\n",
      "    return _VF.einsum(equation, operands)  # type: ignore[attr-defined]\n",
      "RuntimeError: einsum(): the number of subscripts in the equation (2) does not match the number of dimensions (3) for operand 0 and no ellipsis was given\n",
      "\n",
      "During handling of the above exception, another exception occurred:\n",
      "\n",
      "Traceback (most recent call last):\n",
      "  File \"C:\\Users\\toell\\OneDrive\\Documents\\GitHub\\GFlowNetsA\\venv\\lib\\site-packages\\IPython\\core\\interactiveshell.py\", line 2057, in showtraceback\n",
      "    stb = self.InteractiveTB.structured_traceback(\n",
      "  File \"C:\\Users\\toell\\OneDrive\\Documents\\GitHub\\GFlowNetsA\\venv\\lib\\site-packages\\IPython\\core\\ultratb.py\", line 1288, in structured_traceback\n",
      "    return FormattedTB.structured_traceback(\n",
      "  File \"C:\\Users\\toell\\OneDrive\\Documents\\GitHub\\GFlowNetsA\\venv\\lib\\site-packages\\IPython\\core\\ultratb.py\", line 1177, in structured_traceback\n",
      "    return VerboseTB.structured_traceback(\n",
      "  File \"C:\\Users\\toell\\OneDrive\\Documents\\GitHub\\GFlowNetsA\\venv\\lib\\site-packages\\IPython\\core\\ultratb.py\", line 1030, in structured_traceback\n",
      "    formatted_exception = self.format_exception_as_a_whole(etype, evalue, etb, number_of_lines_of_context,\n",
      "  File \"C:\\Users\\toell\\OneDrive\\Documents\\GitHub\\GFlowNetsA\\venv\\lib\\site-packages\\IPython\\core\\ultratb.py\", line 960, in format_exception_as_a_whole\n",
      "    frames.append(self.format_record(record))\n",
      "  File \"C:\\Users\\toell\\OneDrive\\Documents\\GitHub\\GFlowNetsA\\venv\\lib\\site-packages\\IPython\\core\\ultratb.py\", line 870, in format_record\n",
      "    frame_info.lines, Colors, self.has_colors, lvals\n",
      "  File \"C:\\Users\\toell\\OneDrive\\Documents\\GitHub\\GFlowNetsA\\venv\\lib\\site-packages\\IPython\\core\\ultratb.py\", line 704, in lines\n",
      "    return self._sd.lines\n",
      "  File \"C:\\Users\\toell\\OneDrive\\Documents\\GitHub\\GFlowNetsA\\venv\\lib\\site-packages\\stack_data\\utils.py\", line 144, in cached_property_wrapper\n",
      "    value = obj.__dict__[self.func.__name__] = self.func(obj)\n",
      "  File \"C:\\Users\\toell\\OneDrive\\Documents\\GitHub\\GFlowNetsA\\venv\\lib\\site-packages\\stack_data\\core.py\", line 734, in lines\n",
      "    pieces = self.included_pieces\n",
      "  File \"C:\\Users\\toell\\OneDrive\\Documents\\GitHub\\GFlowNetsA\\venv\\lib\\site-packages\\stack_data\\utils.py\", line 144, in cached_property_wrapper\n",
      "    value = obj.__dict__[self.func.__name__] = self.func(obj)\n",
      "  File \"C:\\Users\\toell\\OneDrive\\Documents\\GitHub\\GFlowNetsA\\venv\\lib\\site-packages\\stack_data\\core.py\", line 681, in included_pieces\n",
      "    pos = scope_pieces.index(self.executing_piece)\n",
      "  File \"C:\\Users\\toell\\OneDrive\\Documents\\GitHub\\GFlowNetsA\\venv\\lib\\site-packages\\stack_data\\utils.py\", line 144, in cached_property_wrapper\n",
      "    value = obj.__dict__[self.func.__name__] = self.func(obj)\n",
      "  File \"C:\\Users\\toell\\OneDrive\\Documents\\GitHub\\GFlowNetsA\\venv\\lib\\site-packages\\stack_data\\core.py\", line 660, in executing_piece\n",
      "    return only(\n",
      "  File \"C:\\Users\\toell\\OneDrive\\Documents\\GitHub\\GFlowNetsA\\venv\\lib\\site-packages\\executing\\executing.py\", line 190, in only\n",
      "    raise NotOneValueFound('Expected one value, found 0')\n",
      "executing.executing.NotOneValueFound: Expected one value, found 0\n"
     ]
    }
   ],
   "source": [
    "n = 3\n",
    "A1, C1 = net.get_matrices_from_state(X[n])\n",
    "net.log_sum_flows(X[n]), torch_posterior(A1, C1)"
   ]
  },
  {
   "cell_type": "code",
   "execution_count": 12,
   "metadata": {},
   "outputs": [
    {
     "name": "stdout",
     "output_type": "stream",
     "text": [
      "tensor([[1., 1., 0.],\n",
      "        [1., 1., 0.],\n",
      "        [0., 0., 1.]])\n"
     ]
    },
    {
     "data": {
      "text/plain": [
       "(tensor([[0., 0., 0.],\n",
       "         [0., 0., 1.],\n",
       "         [0., 1., 0.]]),\n",
       " tensor([[1., 1., 0.],\n",
       "         [1., 1., 0.],\n",
       "         [0., 0., 1.]]))"
      ]
     },
     "execution_count": 12,
     "metadata": {},
     "output_type": "execute_result"
    }
   ],
   "source": [
    "A1, C1 = net.get_matrices_from_state(X[12])\n",
    "print(C1)\n",
    "# net.log_sum_flows(X[12])\n",
    "# C1\n",
    "A1, C1"
   ]
  },
  {
   "cell_type": "code",
   "execution_count": 11,
   "metadata": {},
   "outputs": [
    {
     "name": "stderr",
     "output_type": "stream",
     "text": [
      "C:\\Users\\toell\\OneDrive\\Documents\\GitHub\\GFlowNetsA\\GraphClustering\\Core\\Core.py:656: UserWarning: To copy construct from a tensor, it is recommended to use sourceTensor.clone().detach() or sourceTensor.clone().detach().requires_grad_(True), rather than torch.tensor(sourceTensor).\n",
      "  C = torch.t_copy(torch.tensor(C_in, dtype=torch.int64))\n",
      "C:\\Users\\toell\\OneDrive\\Documents\\GitHub\\GFlowNetsA\\GraphClustering\\Core\\Core.py:661: UserWarning: The use of `x.T` on tensors of dimension other than 2 to reverse their shape is deprecated and it will throw an error in a future release. Consider `x.mT` to transpose batches of matrices or `x.permute(*torch.arange(x.ndim - 1, -1, -1))` to reverse the dimensions of a tensor. (Triggered internally at ..\\aten\\src\\ATen\\native\\TensorShape.cpp:3575.)\n",
      "  m_kl = n_C.T @ A @ n_C\n"
     ]
    },
    {
     "ename": "RuntimeError",
     "evalue": "The size of tensor a (2) must match the size of tensor b (3) at non-singleton dimension 0",
     "output_type": "error",
     "traceback": [
      "\u001B[1;31m---------------------------------------------------------------------------\u001B[0m",
      "\u001B[1;31mRuntimeError\u001B[0m                              Traceback (most recent call last)",
      "Cell \u001B[1;32mIn[11], line 1\u001B[0m\n\u001B[1;32m----> 1\u001B[0m \u001B[43mtorch_posterior\u001B[49m\u001B[43m(\u001B[49m\u001B[43mA1\u001B[49m\u001B[43m,\u001B[49m\u001B[43m \u001B[49m\u001B[43mC1\u001B[49m\u001B[43m)\u001B[49m\n",
      "File \u001B[1;32m~\\OneDrive\\Documents\\GitHub\\GFlowNetsA\\GraphClustering\\Core\\Core.py:661\u001B[0m, in \u001B[0;36mtorch_posterior\u001B[1;34m(A_in, C_in, a, b, alpha, log, verbose)\u001B[0m\n\u001B[0;32m    658\u001B[0m values, nk \u001B[38;5;241m=\u001B[39m torch\u001B[38;5;241m.\u001B[39munique(C, return_counts\u001B[38;5;241m=\u001B[39m\u001B[38;5;28;01mTrue\u001B[39;00m)\n\u001B[0;32m    659\u001B[0m n_C \u001B[38;5;241m=\u001B[39m torch\u001B[38;5;241m.\u001B[39meye(\u001B[38;5;28mint\u001B[39m(C\u001B[38;5;241m.\u001B[39mmax()) \u001B[38;5;241m+\u001B[39m \u001B[38;5;241m1\u001B[39m)[C]\n\u001B[1;32m--> 661\u001B[0m m_kl \u001B[38;5;241m=\u001B[39m \u001B[43mn_C\u001B[49m\u001B[38;5;241;43m.\u001B[39;49m\u001B[43mT\u001B[49m\u001B[43m \u001B[49m\u001B[38;5;241;43m@\u001B[39;49m\u001B[43m \u001B[49m\u001B[43mA\u001B[49m\u001B[43m \u001B[49m\u001B[38;5;241;43m@\u001B[39;49m\u001B[43m \u001B[49m\u001B[43mn_C\u001B[49m\n\u001B[0;32m    662\u001B[0m torch\u001B[38;5;241m.\u001B[39meinsum(\u001B[38;5;124m\"\u001B[39m\u001B[38;5;124mii->i\u001B[39m\u001B[38;5;124m\"\u001B[39m, m_kl)[\u001B[38;5;241m.\u001B[39m\u001B[38;5;241m.\u001B[39m\u001B[38;5;241m.\u001B[39m] \u001B[38;5;241m/\u001B[39m\u001B[38;5;241m/\u001B[39m\u001B[38;5;241m=\u001B[39m \u001B[38;5;241m2\u001B[39m  \u001B[38;5;66;03m# m_kl[np.diag_indices_form(m_kl)] //= 2 should do the same thing.\u001B[39;00m\n\u001B[0;32m    664\u001B[0m m_bar_kl \u001B[38;5;241m=\u001B[39m torch\u001B[38;5;241m.\u001B[39mouter(nk, nk) \u001B[38;5;241m-\u001B[39m torch\u001B[38;5;241m.\u001B[39mdiag(nk \u001B[38;5;241m*\u001B[39m (nk \u001B[38;5;241m+\u001B[39m \u001B[38;5;241m1\u001B[39m) \u001B[38;5;241m/\u001B[39m \u001B[38;5;241m2\u001B[39m) \u001B[38;5;241m-\u001B[39m m_kl\n",
      "\u001B[1;31mRuntimeError\u001B[0m: The size of tensor a (2) must match the size of tensor b (3) at non-singleton dimension 0"
     ]
    }
   ],
   "source": [
    "torch_posterior(A1, C1)"
   ]
  },
  {
   "cell_type": "code",
   "execution_count": 46,
   "metadata": {},
   "outputs": [
    {
     "name": "stderr",
     "output_type": "stream",
     "text": [
      "100%|██████████| 100/100 [00:01<00:00, 51.83it/s]\n"
     ]
    }
   ],
   "source": [
    "X1 = net.sample_forward(adjacency_matrix=A_random)"
   ]
  },
  {
   "cell_type": "code",
   "execution_count": 14,
   "metadata": {},
   "outputs": [
    {
     "data": {
      "text/plain": [
       "tensor([[0., 0., 0., 0., 0., 1., 0., 1., 0.],\n",
       "        [0., 0., 0., 0., 0., 1., 0., 1., 0.],\n",
       "        [0., 0., 0., 0., 0., 1., 0., 1., 0.],\n",
       "        [0., 0., 0., 0., 0., 1., 0., 1., 0.],\n",
       "        [0., 0., 0., 0., 0., 1., 0., 1., 0.],\n",
       "        [0., 0., 0., 0., 0., 1., 0., 1., 0.],\n",
       "        [0., 0., 0., 0., 0., 1., 0., 1., 0.],\n",
       "        [0., 0., 0., 0., 0., 1., 0., 1., 0.],\n",
       "        [0., 0., 0., 0., 0., 1., 0., 1., 0.],\n",
       "        [0., 0., 0., 0., 0., 1., 0., 1., 0.],\n",
       "        [0., 0., 0., 0., 0., 1., 0., 1., 0.],\n",
       "        [0., 0., 0., 0., 0., 1., 0., 1., 0.],\n",
       "        [0., 0., 0., 0., 0., 1., 0., 1., 0.],\n",
       "        [0., 0., 0., 0., 0., 1., 0., 1., 0.],\n",
       "        [0., 0., 0., 0., 0., 1., 0., 1., 0.],\n",
       "        [0., 0., 0., 0., 0., 1., 0., 1., 0.],\n",
       "        [0., 0., 0., 0., 0., 1., 0., 1., 0.],\n",
       "        [0., 0., 0., 0., 0., 1., 0., 1., 0.],\n",
       "        [0., 0., 0., 0., 0., 1., 0., 1., 0.],\n",
       "        [0., 0., 0., 0., 0., 1., 0., 1., 0.],\n",
       "        [0., 0., 0., 0., 0., 1., 0., 1., 0.],\n",
       "        [0., 0., 0., 0., 0., 1., 0., 1., 0.],\n",
       "        [0., 0., 0., 0., 0., 1., 0., 1., 0.],\n",
       "        [0., 0., 0., 0., 0., 1., 0., 1., 0.],\n",
       "        [0., 0., 0., 0., 0., 1., 0., 1., 0.],\n",
       "        [0., 0., 0., 0., 0., 1., 0., 1., 0.],\n",
       "        [0., 0., 0., 0., 0., 1., 0., 1., 0.],\n",
       "        [0., 0., 0., 0., 0., 1., 0., 1., 0.],\n",
       "        [0., 0., 0., 0., 0., 1., 0., 1., 0.],\n",
       "        [0., 0., 0., 0., 0., 1., 0., 1., 0.],\n",
       "        [0., 0., 0., 0., 0., 1., 0., 1., 0.],\n",
       "        [0., 0., 0., 0., 0., 1., 0., 1., 0.],\n",
       "        [0., 0., 0., 0., 0., 1., 0., 1., 0.],\n",
       "        [0., 0., 0., 0., 0., 1., 0., 1., 0.],\n",
       "        [0., 0., 0., 0., 0., 1., 0., 1., 0.],\n",
       "        [0., 0., 0., 0., 0., 1., 0., 1., 0.],\n",
       "        [0., 0., 0., 0., 0., 1., 0., 1., 0.],\n",
       "        [0., 0., 0., 0., 0., 1., 0., 1., 0.],\n",
       "        [0., 0., 0., 0., 0., 1., 0., 1., 0.],\n",
       "        [0., 0., 0., 0., 0., 1., 0., 1., 0.],\n",
       "        [0., 0., 0., 0., 0., 1., 0., 1., 0.],\n",
       "        [0., 0., 0., 0., 0., 1., 0., 1., 0.],\n",
       "        [0., 0., 0., 0., 0., 1., 0., 1., 0.],\n",
       "        [0., 0., 0., 0., 0., 1., 0., 1., 0.],\n",
       "        [0., 0., 0., 0., 0., 1., 0., 1., 0.],\n",
       "        [0., 0., 0., 0., 0., 1., 0., 1., 0.],\n",
       "        [0., 0., 0., 0., 0., 1., 0., 1., 0.],\n",
       "        [0., 0., 0., 0., 0., 1., 0., 1., 0.],\n",
       "        [0., 0., 0., 0., 0., 1., 0., 1., 0.],\n",
       "        [0., 0., 0., 0., 0., 1., 0., 1., 0.],\n",
       "        [0., 0., 0., 0., 0., 1., 0., 1., 0.],\n",
       "        [0., 0., 0., 0., 0., 1., 0., 1., 0.],\n",
       "        [0., 0., 0., 0., 0., 1., 0., 1., 0.],\n",
       "        [0., 0., 0., 0., 0., 1., 0., 1., 0.],\n",
       "        [0., 0., 0., 0., 0., 1., 0., 1., 0.],\n",
       "        [0., 0., 0., 0., 0., 1., 0., 1., 0.],\n",
       "        [0., 0., 0., 0., 0., 1., 0., 1., 0.],\n",
       "        [0., 0., 0., 0., 0., 1., 0., 1., 0.],\n",
       "        [0., 0., 0., 0., 0., 1., 0., 1., 0.],\n",
       "        [0., 0., 0., 0., 0., 1., 0., 1., 0.],\n",
       "        [0., 0., 0., 0., 0., 1., 0., 1., 0.],\n",
       "        [0., 0., 0., 0., 0., 1., 0., 1., 0.],\n",
       "        [0., 0., 0., 0., 0., 1., 0., 1., 0.],\n",
       "        [0., 0., 0., 0., 0., 1., 0., 1., 0.],\n",
       "        [0., 0., 0., 0., 0., 1., 0., 1., 0.],\n",
       "        [0., 0., 0., 0., 0., 1., 0., 1., 0.],\n",
       "        [0., 0., 0., 0., 0., 1., 0., 1., 0.],\n",
       "        [0., 0., 0., 0., 0., 1., 0., 1., 0.],\n",
       "        [0., 0., 0., 0., 0., 1., 0., 1., 0.],\n",
       "        [0., 0., 0., 0., 0., 1., 0., 1., 0.],\n",
       "        [0., 0., 0., 0., 0., 1., 0., 1., 0.],\n",
       "        [0., 0., 0., 0., 0., 1., 0., 1., 0.],\n",
       "        [0., 0., 0., 0., 0., 1., 0., 1., 0.],\n",
       "        [0., 0., 0., 0., 0., 1., 0., 1., 0.],\n",
       "        [0., 0., 0., 0., 0., 1., 0., 1., 0.],\n",
       "        [0., 0., 0., 0., 0., 1., 0., 1., 0.],\n",
       "        [0., 0., 0., 0., 0., 1., 0., 1., 0.],\n",
       "        [0., 0., 0., 0., 0., 1., 0., 1., 0.],\n",
       "        [0., 0., 0., 0., 0., 1., 0., 1., 0.],\n",
       "        [0., 0., 0., 0., 0., 1., 0., 1., 0.],\n",
       "        [0., 0., 0., 0., 0., 1., 0., 1., 0.],\n",
       "        [0., 0., 0., 0., 0., 1., 0., 1., 0.],\n",
       "        [0., 0., 0., 0., 0., 1., 0., 1., 0.],\n",
       "        [0., 0., 0., 0., 0., 1., 0., 1., 0.],\n",
       "        [0., 0., 0., 0., 0., 1., 0., 1., 0.],\n",
       "        [0., 0., 0., 0., 0., 1., 0., 1., 0.],\n",
       "        [0., 0., 0., 0., 0., 1., 0., 1., 0.],\n",
       "        [0., 0., 0., 0., 0., 1., 0., 1., 0.],\n",
       "        [0., 0., 0., 0., 0., 1., 0., 1., 0.],\n",
       "        [0., 0., 0., 0., 0., 1., 0., 1., 0.],\n",
       "        [0., 0., 0., 0., 0., 1., 0., 1., 0.],\n",
       "        [0., 0., 0., 0., 0., 1., 0., 1., 0.],\n",
       "        [0., 0., 0., 0., 0., 1., 0., 1., 0.],\n",
       "        [0., 0., 0., 0., 0., 1., 0., 1., 0.],\n",
       "        [0., 0., 0., 0., 0., 1., 0., 1., 0.],\n",
       "        [0., 0., 0., 0., 0., 1., 0., 1., 0.],\n",
       "        [0., 0., 0., 0., 0., 1., 0., 1., 0.],\n",
       "        [0., 0., 0., 0., 0., 1., 0., 1., 0.],\n",
       "        [0., 0., 0., 0., 0., 1., 0., 1., 0.],\n",
       "        [0., 0., 0., 0., 0., 1., 0., 1., 0.]])"
      ]
     },
     "execution_count": 14,
     "metadata": {},
     "output_type": "execute_result"
    }
   ],
   "source": [
    "\n",
    "X[:, :9]"
   ]
  },
  {
   "cell_type": "code",
   "execution_count": null,
   "outputs": [],
   "source": [
    "def plot_full_distribution(n_nodes, filename_save=''):\n",
    "    from scipy.special import logsumexp\n",
    "\n",
    "    clusters_all = allPermutations(n_nodes)\n",
    "    Bell = len(clusters_all)\n",
    "    clusters_all_post = np.zeros(Bell)\n",
    "\n",
    "    for i, cluster in enumerate(clusters_all):\n",
    "        posterior = (torch_posterior(adjacency_matrix, cluster, a=torch.tensor(a), b=torch.tensor(b), alpha = torch.tensor(alpha), log=True))\n",
    "        clusters_all_post[i] = posterior\n",
    "\n",
    "    cluster_post = clusters_all_post - logsumexp(clusters_all_post)\n",
    "\n",
    "    # Normalize them into proper log probabilities\n",
    "    if not log: cluster_post = np.exp(cluster_post)\n",
    "    sort_idx = np.argsort(cluster_post)\n",
    "\n",
    "\n",
    "\n",
    "    cluster_prob_dict, fixed_probs = net.full_sample_distribution_G(adjacency_matrix = A_random, log = True, fix=True)\n",
    "    net_probs = [float(value) for key, value in cluster_prob_dict[-1].items()]\n",
    "\n",
    "    f = plt.figure()\n",
    "    plt.plot(cluster_post[sort_idx], \"o\", label='IRM Values')\n",
    "    plt.plot(net_probs, \"o\", label='GFlowNet values')\n",
    "\n",
    "    plt.title('Cluster Posterior Probabilites by Magnitude')\n",
    "    plt.xlabel(\"Cluster Index\")\n",
    "    plt.ylabel(\"Posterior Probability\")\n",
    "    plt.legend()\n",
    "    if filename_save:\n",
    "        plt.savefig(filename_save + '.png')\n",
    "    plt.show()\n",
    "\n",
    "    return"
   ],
   "metadata": {
    "collapsed": false
   }
  }
 ],
 "metadata": {
  "kernelspec": {
   "display_name": "Python 3 (ipykernel)",
   "language": "python",
   "name": "python3"
  },
  "language_info": {
   "codemirror_mode": {
    "name": "ipython",
    "version": 3
   },
   "file_extension": ".py",
   "mimetype": "text/x-python",
   "name": "python",
   "nbconvert_exporter": "python",
   "pygments_lexer": "ipython3",
   "version": "3.10.5"
  }
 },
 "nbformat": 4,
 "nbformat_minor": 2
}
