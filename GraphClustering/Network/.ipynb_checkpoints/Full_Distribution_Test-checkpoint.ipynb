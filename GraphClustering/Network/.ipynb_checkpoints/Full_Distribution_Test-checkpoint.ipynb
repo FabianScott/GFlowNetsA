{
 "cells": [
  {
   "cell_type": "code",
   "execution_count": 2,
   "metadata": {
    "pycharm": {
     "is_executing": true
    }
   },
   "outputs": [
    {
     "name": "stdout",
     "output_type": "stream",
     "text": [
      "C:\\Users\\toell\\OneDrive\\Documents\\GitHub\\GFlowNetsA\\GraphClustering\\Network\n"
     ]
    }
   ],
   "source": [
    "import os\n",
    "print(os.getcwd()) # You should be running this from the GFlowNetsA directory, unless using Pycharm where it works just fine\n",
    "import numpy as np\n",
    "import torch\n",
    "import matplotlib.pyplot as plt\n",
    "try:\n",
    "    from GraphClustering import GraphNet\n",
    "    from GraphClustering.Core.Core import allPermutations\n",
    "    # print(\"All my friends hate hate Core GraphNet\")\n",
    "    # from GraphClustering.Network.Network import GraphNet # This worries me. There is an outdated version of Graphnet in Core. \n",
    "except: # Do not change this if it is unnecessary for you. Directly picking the cwd for jupyter notebooks can be a massive hassle in VSCode.\n",
    "    print(\"Previous import statement didn't work. Changing cwd to parent directory.\") # \n",
    "    for _ in range(4):\n",
    "        print(\"Stepping one directory up.\")\n",
    "        try:\n",
    "            os.chdir(\"..\")\n",
    "            print(os.getcwd())\n",
    "            from GraphClustering import GraphNet\n",
    "            from GraphClustering.Core.Core import allPermutations\n",
    "            print(\"Successful import.\")\n",
    "            break\n",
    "        except:\n",
    "            pass\n",
    "from GraphClustering import IRM_graph, clusterIndex\n",
    "from GraphClustering import Cmatrix_to_array, torch_posterior\n"
   ]
  },
  {
   "cell_type": "code",
   "execution_count": 2,
   "metadata": {},
   "outputs": [],
   "source": [
    "# I could just install nbimporter to import this function. Now in Core\n",
    "# def allPermutations(n):\n",
    "#     \"\"\"\n",
    "#     Return a list of all possible permutations of clustering\n",
    "#     lists for a graph with n nodes\n",
    "#     :param n: int\n",
    "#     :return: numpy array\n",
    "#     \"\"\"\n",
    "#     perm = [[[1]]]\n",
    "#     for i in range(n-1):\n",
    "#         perm.append([])\n",
    "#         for partial in perm[i]:\n",
    "#             for j in range(1, max(partial) + 2):\n",
    "#                 perm[i + 1].append(partial + [j])\n",
    "#\n",
    "#     return np.array(perm[-1])-1"
   ]
  },
  {
   "cell_type": "code",
   "execution_count": 3,
   "metadata": {},
   "outputs": [
    {
     "name": "stdout",
     "output_type": "stream",
     "text": [
      "tensor([0., 0., 1.])\n"
     ]
    },
    {
     "data": {
      "image/png": "[encoded data removed]",
      "text/plain": [
       "<Figure size 640x480 with 1 Axes>"
      ]
     },
     "metadata": {},
     "output_type": "display_data"
    }
   ],
   "source": [
    "# Making the graph, and outputting cluster indexes.\n",
    "N =  3\n",
    "a, b, alpha = 0.5, 0.5, 3\n",
    "log = True\n",
    "adjacency_matrix, clusters = IRM_graph(alpha = alpha, a = a, b = b, N = N)\n",
    "cluster_idxs = clusterIndex(clusters)\n",
    "clusters = len(clusters)\n",
    "plt.imshow(adjacency_matrix)\n",
    "print(cluster_idxs)\n",
    "\n",
    "net = GraphNet(n_nodes=adjacency_matrix.size()[0], a = a, b = b, alpha = alpha)"
   ]
  },
  {
   "cell_type": "code",
   "execution_count": 4,
   "metadata": {},
   "outputs": [
    {
     "name": "stderr",
     "output_type": "stream",
     "text": [
      "C:\\Users\\toell\\AppData\\Local\\Temp\\ipykernel_14828\\3666193341.py:6: UserWarning: To copy construct from a tensor, it is recommended to use sourceTensor.clone().detach() or sourceTensor.clone().detach().requires_grad_(True), rather than torch.tensor(sourceTensor).\n",
      "  clustering_matrix = net.get_clustering_matrix(torch.tensor(cluster_idxs+1), torch.tensor(clusters))\n"
     ]
    },
    {
     "name": "stdout",
     "output_type": "stream",
     "text": [
      "tensor([1., 2., 1.])\n"
     ]
    },
    {
     "data": {
      "image/png": "[encoded data removed]",
      "text/plain": [
       "<Figure size 640x480 with 1 Axes>"
      ]
     },
     "metadata": {},
     "output_type": "display_data"
    },
    {
     "name": "stdout",
     "output_type": "stream",
     "text": [
      "tensor([1., 2., 1.])\n"
     ]
    }
   ],
   "source": [
    "idxs = torch.randperm(N, dtype=torch.int64)\n",
    "A_random = adjacency_matrix[idxs][:, idxs]\n",
    "\n",
    "# print(torch.tensor(cluster_idxs))\n",
    "# print(torch.tensor(clusters))\n",
    "clustering_matrix = net.get_clustering_matrix(torch.tensor(cluster_idxs+1), torch.tensor(clusters))\n",
    "# plt.figure()\n",
    "# plt.imshow(clustering_matrix)\n",
    "# plt.show()\n",
    "cluster_random, cluster_num = net.get_clustering_list(clustering_matrix[idxs][:, idxs])\n",
    "print(cluster_random)\n",
    "\n",
    "plt.figure()\n",
    "plt.imshow(A_random)\n",
    "plt.show()\n",
    "print(cluster_random)"
   ]
  },
  {
   "cell_type": "code",
   "execution_count": 5,
   "metadata": {},
   "outputs": [],
   "source": [
    "# Computing posteriors for all clusters.\n",
    "clusters_all = allPermutations(N)\n",
    "Bell = len(clusters_all)\n",
    "clusters_all_post = np.zeros(Bell)\n",
    "for i, cluster in enumerate(clusters_all):\n",
    "    posterior = (torch_posterior(adjacency_matrix, cluster, a=torch.tensor(a), b=torch.tensor(b), alpha = torch.tensor(alpha), log=True))\n",
    "    clusters_all_post[i] = posterior"
   ]
  },
  {
   "cell_type": "code",
   "execution_count": 6,
   "metadata": {},
   "outputs": [
    {
     "name": "stdout",
     "output_type": "stream",
     "text": [
      "[-4.47733736 -4.17723227 -6.37445688 -6.37445688 -5.96899176]\n",
      "[-1.056053   -0.7559479  -2.95317252 -2.95317252 -2.54770739]\n",
      "[[0 0 0]\n",
      " [0 0 1]\n",
      " [0 1 0]\n",
      " [0 1 1]\n",
      " [0 1 2]]\n"
     ]
    },
    {
     "data": {
      "image/png": "[encoded data removed]",
      "text/plain": [
       "<Figure size 640x480 with 1 Axes>"
      ]
     },
     "metadata": {},
     "output_type": "display_data"
    },
    {
     "name": "stdout",
     "output_type": "stream",
     "text": [
      "[[0 1 0]\n",
      " [0 1 1]\n",
      " [0 1 2]\n",
      " [0 0 0]\n",
      " [0 0 1]]\n"
     ]
    },
    {
     "data": {
      "image/png": "[encoded data removed]",
      "text/plain": [
       "<Figure size 640x480 with 1 Axes>"
      ]
     },
     "metadata": {},
     "output_type": "display_data"
    }
   ],
   "source": [
    "\n",
    "print(clusters_all_post)\n",
    "# cluster_post = np.exp(clusters_all_post)/np.sum(np.exp(clusters_all_post)) # Numpy can handle -np.inf. This might stop working when many of the probabilities underflow.\n",
    "from scipy.special import logsumexp\n",
    "cluster_post = clusters_all_post - logsumexp(clusters_all_post) # Normalize them into proper log probabilities\n",
    "if not log: cluster_post = np.exp(cluster_post)\n",
    "print(cluster_post)\n",
    "\n",
    "print(clusters_all)\n",
    "f = plt.figure()\n",
    "plt.title('Cluster Posterior Probabilites by Index')\n",
    "plt.plot(cluster_post, \"o\")\n",
    "plt.xlabel(\"Cluster Index\")\n",
    "plt.ylabel(\"Posterior Probability\")\n",
    "plt.show()\n",
    "\n",
    "sort_idx = np.argsort(cluster_post)\n",
    "print(clusters_all[sort_idx])\n",
    "f = plt.figure()\n",
    "plt.title('Cluster Posterior Probabilites by Magnitude')\n",
    "plt.plot(cluster_post[sort_idx], \"o\")\n",
    "plt.xlabel(\"Cluster Index\")\n",
    "plt.ylabel(\"Posterior Probability\")\n",
    "plt.show()"
   ]
  },
  {
   "cell_type": "code",
   "execution_count": 7,
   "metadata": {},
   "outputs": [
    {
     "name": "stdout",
     "output_type": "stream",
     "text": [
      "Total possible clusters: 5\n",
      "Ground truth: [0.0, 0.0, 1.0]\n",
      "Top clusterings:\n",
      "1: [0 0 1]\n",
      "2: [0 0 0]\n",
      "3: [0 1 2]\n",
      "4: [0 1 1]\n",
      "5: [0 1 0]\n"
     ]
    }
   ],
   "source": [
    "# Results\n",
    "sortidxs=np.argsort(clusters_all_post)\n",
    "top = 10\n",
    "print(\"Total possible clusters: \"+str(len(sortidxs)))\n",
    "print(\"Ground truth: \"+str(cluster_idxs.tolist()))\n",
    "print(\"Top clusterings:\")\n",
    "for i, idx in enumerate(np.flip(sortidxs)[:top]):\n",
    "    print(str(i+1)+\": \"+str(clusters_all[idx]))"
   ]
  },
  {
   "cell_type": "code",
   "execution_count": 8,
   "metadata": {},
   "outputs": [
    {
     "name": "stderr",
     "output_type": "stream",
     "text": [
      "  0%|          | 0/100 [00:00<?, ?it/s]C:\\Users\\toell\\OneDrive\\Documents\\GitHub\\GFlowNetsA\\GraphClustering\\Core\\Core.py:292: UserWarning: To copy construct from a tensor, it is recommended to use sourceTensor.clone().detach() or sourceTensor.clone().detach().requires_grad_(True), rather than torch.tensor(sourceTensor).\n",
      "  clustering_list[node_chosen] = torch.tensor(cluster_index_chosen + 1, dtype=torch.float32)\n",
      "100%|██████████| 100/100 [00:03<00:00, 27.24it/s]\n",
      "  4%|▍         | 2/50 [00:09<03:47,  4.74s/it]\n"
     ]
    },
    {
     "ename": "KeyboardInterrupt",
     "evalue": "",
     "output_type": "error",
     "traceback": [
      "\u001b[1;31m---------------------------------------------------------------------------\u001b[0m",
      "\u001b[1;31mKeyboardInterrupt\u001b[0m                         Traceback (most recent call last)",
      "Cell \u001b[1;32mIn[8], line 2\u001b[0m\n\u001b[0;32m      1\u001b[0m X \u001b[38;5;241m=\u001b[39m net\u001b[38;5;241m.\u001b[39msample_forward(adjacency_matrix\u001b[38;5;241m=\u001b[39mA_random)\n\u001b[1;32m----> 2\u001b[0m \u001b[43mnet\u001b[49m\u001b[38;5;241;43m.\u001b[39;49m\u001b[43mtrain\u001b[49m\u001b[43m(\u001b[49m\u001b[43mX\u001b[49m\u001b[43m,\u001b[49m\u001b[43m \u001b[49m\u001b[43mepochs\u001b[49m\u001b[38;5;241;43m=\u001b[39;49m\u001b[38;5;241;43m50\u001b[39;49m\u001b[43m)\u001b[49m\n",
      "File \u001b[1;32m~\\OneDrive\\Documents\\GitHub\\GFlowNetsA\\GraphClustering\\Core\\Core.py:102\u001b[0m, in \u001b[0;36mGraphNet.train\u001b[1;34m(self, X, Y, epochs, batch_size, verbose)\u001b[0m\n\u001b[0;32m    100\u001b[0m targets \u001b[38;5;241m=\u001b[39m torch\u001b[38;5;241m.\u001b[39mzeros((batch_size, \u001b[38;5;241m1\u001b[39m))\n\u001b[0;32m    101\u001b[0m \u001b[38;5;28;01mfor\u001b[39;00m j, x \u001b[38;5;129;01min\u001b[39;00m \u001b[38;5;28menumerate\u001b[39m(batch_x):\n\u001b[1;32m--> 102\u001b[0m     _, forward, backward \u001b[38;5;241m=\u001b[39m \u001b[38;5;28;43mself\u001b[39;49m\u001b[38;5;241;43m.\u001b[39;49m\u001b[43mlog_sum_flows\u001b[49m\u001b[43m(\u001b[49m\u001b[43mx\u001b[49m\u001b[43m)\u001b[49m\n\u001b[0;32m    103\u001b[0m     outputs[j] \u001b[38;5;241m=\u001b[39m forward\n\u001b[0;32m    104\u001b[0m     \u001b[38;5;28;01mif\u001b[39;00m \u001b[38;5;28mself\u001b[39m\u001b[38;5;241m.\u001b[39mis_terminal(x):\n\u001b[0;32m    105\u001b[0m         \u001b[38;5;66;03m# Should calculate IRM value of the state:\u001b[39;00m\n",
      "File \u001b[1;32m~\\OneDrive\\Documents\\GitHub\\GFlowNetsA\\GraphClustering\\Core\\Core.py:172\u001b[0m, in \u001b[0;36mGraphNet.log_sum_flows\u001b[1;34m(self, terminal_state)\u001b[0m\n\u001b[0;32m    170\u001b[0m cluster_origin_index \u001b[38;5;241m=\u001b[39m current_clustering_list[index_chosen] \u001b[38;5;241m-\u001b[39m \u001b[38;5;241m1\u001b[39m\n\u001b[0;32m    171\u001b[0m \u001b[38;5;66;03m# Now calculate the forward flow into the state we passed to the backward model:\u001b[39;00m\n\u001b[1;32m--> 172\u001b[0m current_clustering_list, _ \u001b[38;5;241m=\u001b[39m \u001b[38;5;28;43mself\u001b[39;49m\u001b[38;5;241;43m.\u001b[39;49m\u001b[43mget_clustering_list\u001b[49m\u001b[43m(\u001b[49m\u001b[43mclustering_matrix\u001b[49m\u001b[43m)\u001b[49m\n\u001b[0;32m    173\u001b[0m node_index_forward \u001b[38;5;241m=\u001b[39m torch\u001b[38;5;241m.\u001b[39msum(current_clustering_list[:index_chosen] \u001b[38;5;241m==\u001b[39m \u001b[38;5;241m0\u001b[39m)\n\u001b[0;32m    174\u001b[0m prob_log_sum_forward \u001b[38;5;241m+\u001b[39m\u001b[38;5;241m=\u001b[39m torch\u001b[38;5;241m.\u001b[39mlog(forward_probs[(\u001b[38;5;28mint\u001b[39m(node_index_forward), \u001b[38;5;28mint\u001b[39m(cluster_origin_index[\u001b[38;5;241m0\u001b[39m]))])\n",
      "File \u001b[1;32m~\\OneDrive\\Documents\\GitHub\\GFlowNetsA\\GraphClustering\\Core\\Core.py:429\u001b[0m, in \u001b[0;36mGraphNet.get_clustering_list\u001b[1;34m(self, clustering_matrix)\u001b[0m\n\u001b[0;32m    427\u001b[0m \u001b[38;5;28;01mwhile\u001b[39;00m torch\u001b[38;5;241m.\u001b[39msum(current_clustering_copy):\n\u001b[0;32m    428\u001b[0m     row \u001b[38;5;241m=\u001b[39m current_clustering_copy[node_no]\n\u001b[1;32m--> 429\u001b[0m     \u001b[38;5;28;01mif\u001b[39;00m \u001b[43mtorch\u001b[49m\u001b[38;5;241;43m.\u001b[39;49m\u001b[43msum\u001b[49m\u001b[43m(\u001b[49m\u001b[43mrow\u001b[49m\u001b[43m)\u001b[49m:\n\u001b[0;32m    430\u001b[0m         indices \u001b[38;5;241m=\u001b[39m torch\u001b[38;5;241m.\u001b[39margwhere(row)\n\u001b[0;32m    431\u001b[0m         clustering_list[indices] \u001b[38;5;241m=\u001b[39m number_of_clusters\n",
      "\u001b[1;31mKeyboardInterrupt\u001b[0m: "
     ]
    }
   ],
   "source": [
    "X = net.sample_forward(adjacency_matrix=A_random)\n",
    "net.train(X, epochs=50)"
   ]
  },
  {
   "cell_type": "code",
   "execution_count": 9,
   "metadata": {},
   "outputs": [
    {
     "name": "stdout",
     "output_type": "stream",
     "text": [
      "Warning: The state representation in this function does not include the last node placed.\n",
      "Warning: Because this function has to sum small probabilities, it will likely experience underflow even for meagre graphs.\n",
      "Warning: You are embarking on the long and arduous journey of calculating all the forward sample probabilities exactly. This might take a while.\n"
     ]
    },
    {
     "name": "stderr",
     "output_type": "stream",
     "text": [
      "100%|██████████| 3/3 [00:00<00:00,  7.07it/s]\n"
     ]
    }
   ],
   "source": [
    "from GraphClustering import GraphNet\n",
    "cluster_prob_dict, fixed_probs = net.full_sample_distribution_G(adjacency_matrix = A_random, log = True, fix=True)\n",
    "# net.get_all_probs(adjacency_matrix, save='FinalProbDict.pth')"
   ]
  },
  {
   "cell_type": "code",
   "execution_count": null,
   "metadata": {},
   "outputs": [],
   "source": [
    "net_probs = [float(value) for key, value in cluster_prob_dict[-1].items()]\n",
    "f = plt.figure()\n",
    "plt.title('Cluster Posterior Probabilites by Magnitude')\n",
    "plt.plot(net_probs, \"o\")\n",
    "plt.xlabel(\"Cluster Index\")\n",
    "plt.ylabel(\"Posterior Probability\")\n",
    "plt.show()"
   ]
  },
  {
   "cell_type": "code",
   "execution_count": 10,
   "metadata": {},
   "outputs": [
    {
     "data": {
      "text/plain": [
       "[{tensor([0., 0., 0.]): 0},\n",
       " defaultdict(<function GraphClustering.Core.Core.GraphNet.full_sample_distribution_G.<locals>.<listcomp>.<lambda>()>,\n",
       "             {tensor([1., 0., 0.]): tensor(-1.1021, grad_fn=<AddBackward0>),\n",
       "              tensor([0., 1., 0.]): tensor(-1.0882, grad_fn=<AddBackward0>),\n",
       "              tensor([0., 0., 1.]): tensor(-1.1057, grad_fn=<AddBackward0>)}),\n",
       " defaultdict(<function GraphClustering.Core.Core.GraphNet.full_sample_distribution_G.<locals>.<listcomp>.<lambda>()>,\n",
       "             {tensor([1., 1., 0.]): tensor(-2.4824, grad_fn=<AddBackward0>),\n",
       "              tensor([1., 2., 0.]): tensor(-2.4812, grad_fn=<AddBackward0>),\n",
       "              tensor([1., 0., 1.]): tensor(-2.4943, grad_fn=<AddBackward0>),\n",
       "              tensor([1., 0., 2.]): tensor(-2.4957, grad_fn=<AddBackward0>),\n",
       "              tensor([1., 1., 0.]): tensor(-2.4865, grad_fn=<AddBackward0>),\n",
       "              tensor([1., 2., 0.]): tensor(-2.4853, grad_fn=<AddBackward0>),\n",
       "              tensor([0., 1., 1.]): tensor(-2.4584, grad_fn=<AddBackward0>),\n",
       "              tensor([0., 1., 2.]): tensor(-2.4679, grad_fn=<AddBackward0>),\n",
       "              tensor([1., 0., 1.]): tensor(-2.5094, grad_fn=<AddBackward0>),\n",
       "              tensor([1., 0., 2.]): tensor(-2.5108, grad_fn=<AddBackward0>),\n",
       "              tensor([0., 1., 1.]): tensor(-2.4694, grad_fn=<AddBackward0>),\n",
       "              tensor([0., 1., 2.]): tensor(-2.4789, grad_fn=<AddBackward0>)}),\n",
       " defaultdict(<function GraphClustering.Core.Core.GraphNet.full_sample_distribution_G.<locals>.<listcomp>.<lambda>()>,\n",
       "             {tensor([1., 1., 1.]): tensor(-3.1652, grad_fn=<AddBackward0>),\n",
       "              tensor([1., 1., 2.]): tensor(-3.1860, grad_fn=<AddBackward0>),\n",
       "              tensor([1., 2., 1.]): tensor(-3.5784, grad_fn=<AddBackward0>),\n",
       "              tensor([1., 2., 2.]): tensor(-3.5758, grad_fn=<AddBackward0>),\n",
       "              tensor([1., 2., 3.]): tensor(-3.5853, grad_fn=<AddBackward0>),\n",
       "              tensor([1., 1., 1.]): tensor(-3.1889, grad_fn=<AddBackward0>),\n",
       "              tensor([1., 2., 1.]): tensor(-3.1860, grad_fn=<AddBackward0>),\n",
       "              tensor([1., 1., 2.]): tensor(-3.6087, grad_fn=<AddBackward0>),\n",
       "              tensor([1., 2., 2.]): tensor(-3.5824, grad_fn=<AddBackward0>),\n",
       "              tensor([1., 2., 3.]): tensor(-3.5919, grad_fn=<AddBackward0>),\n",
       "              tensor([1., 1., 1.]): tensor(-3.1693, grad_fn=<AddBackward0>),\n",
       "              tensor([1., 1., 2.]): tensor(-3.1901, grad_fn=<AddBackward0>),\n",
       "              tensor([1., 2., 1.]): tensor(-3.5825, grad_fn=<AddBackward0>),\n",
       "              tensor([1., 2., 2.]): tensor(-3.5799, grad_fn=<AddBackward0>),\n",
       "              tensor([1., 2., 3.]): tensor(-3.5894, grad_fn=<AddBackward0>),\n",
       "              tensor([1., 1., 1.]): tensor(-3.1543, grad_fn=<AddBackward0>),\n",
       "              tensor([1., 2., 2.]): tensor(-3.1488, grad_fn=<AddBackward0>),\n",
       "              tensor([1., 1., 2.]): tensor(-3.5801, grad_fn=<AddBackward0>),\n",
       "              tensor([1., 2., 1.]): tensor(-3.5563, grad_fn=<AddBackward0>),\n",
       "              tensor([1., 2., 3.]): tensor(-3.5632, grad_fn=<AddBackward0>),\n",
       "              tensor([1., 1., 1.]): tensor(-3.2041, grad_fn=<AddBackward0>),\n",
       "              tensor([1., 2., 1.]): tensor(-3.2011, grad_fn=<AddBackward0>),\n",
       "              tensor([1., 1., 2.]): tensor(-3.6239, grad_fn=<AddBackward0>),\n",
       "              tensor([1., 2., 2.]): tensor(-3.5976, grad_fn=<AddBackward0>),\n",
       "              tensor([1., 2., 3.]): tensor(-3.6070, grad_fn=<AddBackward0>),\n",
       "              tensor([1., 1., 1.]): tensor(-3.1653, grad_fn=<AddBackward0>),\n",
       "              tensor([1., 2., 2.]): tensor(-3.1598, grad_fn=<AddBackward0>),\n",
       "              tensor([1., 1., 2.]): tensor(-3.5911, grad_fn=<AddBackward0>),\n",
       "              tensor([1., 2., 1.]): tensor(-3.5674, grad_fn=<AddBackward0>),\n",
       "              tensor([1., 2., 3.]): tensor(-3.5743, grad_fn=<AddBackward0>)})]"
      ]
     },
     "execution_count": 10,
     "metadata": {},
     "output_type": "execute_result"
    }
   ],
   "source": [
    "cluster_prob_dict"
   ]
  },
  {
   "cell_type": "code",
   "execution_count": null,
   "metadata": {},
   "outputs": [],
   "source": [
    "import torch"
   ]
  },
  {
   "cell_type": "code",
   "execution_count": null,
   "metadata": {},
   "outputs": [],
   "source": [
    "tuple(torch.ones(4).tolist())"
   ]
  }
 ],
 "metadata": {
  "kernelspec": {
   "display_name": "Python 3 (ipykernel)",
   "language": "python",
   "name": "python3"
  },
  "language_info": {
   "codemirror_mode": {
    "name": "ipython",
    "version": 3
   },
   "file_extension": ".py",
   "mimetype": "text/x-python",
   "name": "python",
   "nbconvert_exporter": "python",
   "pygments_lexer": "ipython3",
   "version": "3.10.5"
  }
 },
 "nbformat": 4,
 "nbformat_minor": 2
}
