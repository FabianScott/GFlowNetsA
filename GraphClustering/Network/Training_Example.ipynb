{
 "cells": [
  {
   "cell_type": "code",
   "execution_count": 1,
   "metadata": {
    "collapsed": true
   },
   "outputs": [
    {
     "ename": "ModuleNotFoundError",
     "evalue": "No module named 'GraphClustering'",
     "output_type": "error",
     "traceback": [
      "\u001b[1;31m---------------------------------------------------------------------------\u001b[0m",
      "\u001b[1;31mModuleNotFoundError\u001b[0m                       Traceback (most recent call last)",
      "Cell \u001b[1;32mIn[1], line 2\u001b[0m\n\u001b[0;32m      1\u001b[0m \u001b[39mimport\u001b[39;00m \u001b[39mtorch\u001b[39;00m\n\u001b[1;32m----> 2\u001b[0m \u001b[39mfrom\u001b[39;00m \u001b[39mNetwork\u001b[39;00m \u001b[39mimport\u001b[39;00m GraphNet\n",
      "File \u001b[1;32mc:\\Users\\Gabriel\\OneDrive - Danmarks Tekniske Universitet\\Lokale Filer\\DTU\\Forår 2023\\Fagprojekt\\GFlowNetsA\\GraphClustering\\Network\\Network.py:6\u001b[0m\n\u001b[0;32m      4\u001b[0m \u001b[39mimport\u001b[39;00m \u001b[39mtorch\u001b[39;00m\u001b[39m.\u001b[39;00m\u001b[39mnn\u001b[39;00m \u001b[39mas\u001b[39;00m \u001b[39mnn\u001b[39;00m\n\u001b[0;32m      5\u001b[0m \u001b[39mimport\u001b[39;00m \u001b[39mitertools\u001b[39;00m\n\u001b[1;32m----> 6\u001b[0m \u001b[39mfrom\u001b[39;00m \u001b[39mGraphClustering\u001b[39;00m\u001b[39m.\u001b[39;00m\u001b[39mIRM_post\u001b[39;00m \u001b[39mimport\u001b[39;00m torch_posterior, p_x_giv_z\n\u001b[0;32m      9\u001b[0m \u001b[39mclass\u001b[39;00m \u001b[39mGraphNet\u001b[39;00m:\n\u001b[0;32m     10\u001b[0m     \u001b[39mdef\u001b[39;00m \u001b[39m__init__\u001b[39m(\u001b[39mself\u001b[39m,\n\u001b[0;32m     11\u001b[0m                  n_nodes,\n\u001b[0;32m     12\u001b[0m                  termination_chance\u001b[39m=\u001b[39m\u001b[39mNone\u001b[39;00m,\n\u001b[1;32m   (...)\u001b[0m\n\u001b[0;32m     25\u001b[0m                  using_backward_model\u001b[39m=\u001b[39m\u001b[39mFalse\u001b[39;00m\n\u001b[0;32m     26\u001b[0m                  ):\n",
      "\u001b[1;31mModuleNotFoundError\u001b[0m: No module named 'GraphClustering'"
     ]
    }
   ],
   "source": [
    "import torch\n",
    "from Network import GraphNet\n",
    "from IRM_generative_torch import IRM_graph, clusterIndex\n",
    "from IRM_post import Cmatrix_to_array"
   ]
  },
  {
   "attachments": {},
   "cell_type": "markdown",
   "metadata": {
    "collapsed": false
   },
   "source": [
    "The number of nodes is the only parameter with no default, so the graph must be created before the network. Here we create a synthetic graph generated from the stochastic processes we assume formed the graph in the IRM model."
   ]
  },
  {
   "cell_type": "code",
   "execution_count": 6,
   "metadata": {
    "collapsed": false
   },
   "outputs": [],
   "source": [
    "N =  20 \n",
    "adjacency_matrix, clusters = IRM_graph(3, 0.5, 0.5, N = 20)\n",
    "cluster_idxs = clusterIndex(clusters)\n",
    "# Adjacency_matrix describes the graph. \n",
    "# Cluster_idxs is the ground truth and was used to form the graph.\n",
    "\n",
    "idxs = torch.random.permutation(torch.arange(N))\n",
    "A_random = adjacency_matrix[idxs][:, idxs] \n",
    "cluster_random = cluster_idxs[A_random]\n",
    "\n",
    "\n",
    "# adjacency_matrix = torch.ones((5, 5))\n",
    "# adjacency_matrix[0, 1], adjacency_matrix[1, 0] = 0, 0\n",
    "# adjacency_matrix[0, 3], adjacency_matrix[3, 0] = 0, 0\n",
    "# adjacency_matrix[0, 4], adjacency_matrix[4, 0] = 0, 0"
   ]
  },
  {
   "cell_type": "markdown",
   "metadata": {
    "collapsed": false
   },
   "source": [
    "Network is created as so:"
   ]
  },
  {
   "cell_type": "code",
   "execution_count": 7,
   "metadata": {
    "collapsed": false
   },
   "outputs": [],
   "source": [
    "net = GraphNet(n_nodes=adjacency_matrix.size()[0])"
   ]
  },
  {
   "cell_type": "markdown",
   "metadata": {
    "collapsed": false
   },
   "source": [
    "The input to the network is a vector of length 2 * (n_nodes ^ 2) + n_nodes. The first n_nodes^2 is the adjacency matrix, the next is the clustering matrix specifying which nodes are in the same cluster and the final n_nodes indicate which node was most recently placed into a cluster."
   ]
  },
  {
   "cell_type": "code",
   "execution_count": 8,
   "metadata": {
    "collapsed": false
   },
   "outputs": [
    {
     "name": "stderr",
     "output_type": "stream",
     "text": [
      "C:\\Users\\toell\\AppData\\Local\\Temp\\ipykernel_9980\\2140478734.py:5: UserWarning: To copy construct from a tensor, it is recommended to use sourceTensor.clone().detach() or sourceTensor.clone().detach().requires_grad_(True), rather than torch.tensor(sourceTensor).\n",
      "  b = torch.concat((torch.tensor(adjacency_matrix).flatten(), torch.tensor(clustering_mat).flatten(), last_node_placed))\n"
     ]
    }
   ],
   "source": [
    "clustering_list = torch.tensor([1, 1, 2, 3, 0])\n",
    "clustering_mat = net.get_clustering_matrix(clustering_list, 4)\n",
    "last_node_placed = torch.zeros(5)\n",
    "last_node_placed[3] = 1\n",
    "b = torch.concat((torch.tensor(adjacency_matrix).flatten(), torch.tensor(clustering_mat).flatten(), last_node_placed))"
   ]
  },
  {
   "cell_type": "markdown",
   "metadata": {
    "collapsed": false
   },
   "source": [
    "To train, one must first sample a number of clusterings using sample_forward, which will sample using the current network along with added randomness. The amount of randomness is set using the parameter 'gamma' when instantiating the network. Default is 0.5"
   ]
  },
  {
   "cell_type": "code",
   "execution_count": 10,
   "metadata": {
    "collapsed": false
   },
   "outputs": [
    {
     "name": "stderr",
     "output_type": "stream",
     "text": [
      "100%|██████████| 100/100 [05:22<00:00,  3.22s/it]\n",
      "100%|██████████| 100/100 [00:03<00:00, 25.99it/s]\n",
      "100%|██████████| 10/10 [00:30<00:00,  3.02s/it]\n"
     ]
    }
   ],
   "source": [
    "X = net.sample_forward(adjacency_matrix=adjacency_matrix)\n",
    "avpost1 = ?\n",
    "net.train(X, epochs=10)"
   ]
  },
  {
   "cell_type": "markdown",
   "metadata": {
    "collapsed": false
   },
   "source": [
    "Once finished, sampling again will produce different results. If you only want complete clusterings, set the net property 'termination_chance' to 0."
   ]
  },
  {
   "cell_type": "code",
   "execution_count": 13,
   "metadata": {
    "collapsed": false
   },
   "outputs": [
    {
     "name": "stderr",
     "output_type": "stream",
     "text": [
      "  0%|          | 0/100 [00:00<?, ?it/s]C:\\Users\\toell\\OneDrive\\Documents\\GitHub\\GFlowNetsA\\GraphClustering\\Network\\Network.py:234: UserWarning: To copy construct from a tensor, it is recommended to use sourceTensor.clone().detach() or sourceTensor.clone().detach().requires_grad_(True), rather than torch.tensor(sourceTensor).\n",
      "  clustering_list[node_chosen] = torch.tensor(cluster_index_chosen + 1, dtype=torch.float32)\n",
      "100%|██████████| 100/100 [00:06<00:00, 14.65it/s]\n"
     ]
    }
   ],
   "source": [
    "net.termination_chance = 0\n",
    "X1 = net.sample_forward(adjacency_matrix)"
   ]
  },
  {
   "attachments": {},
   "cell_type": "markdown",
   "metadata": {
    "collapsed": false
   },
   "source": [
    "These new samples have the same length as the input to the network, so use indexing to get the clustering matrix or use the method of the GraphNet class called get_matrices_from_state"
   ]
  },
  {
   "cell_type": "code",
   "execution_count": 14,
   "metadata": {
    "collapsed": false
   },
   "outputs": [],
   "source": [
    "clusterings = []\n",
    "for x in X:\n",
    "    clusterings.append(net.get_matrices_from_state(x))"
   ]
  },
  {
   "cell_type": "code",
   "execution_count": null,
   "metadata": {
    "collapsed": false
   },
   "outputs": [],
   "source": []
  }
 ],
 "metadata": {
  "kernelspec": {
   "display_name": "Python 3",
   "language": "python",
   "name": "python3"
  },
  "language_info": {
   "codemirror_mode": {
    "name": "ipython",
    "version": 3
   },
   "file_extension": ".py",
   "mimetype": "text/x-python",
   "name": "python",
   "nbconvert_exporter": "python",
   "pygments_lexer": "ipython3",
   "version": "3.9.16"
  }
 },
 "nbformat": 4,
 "nbformat_minor": 0
}
