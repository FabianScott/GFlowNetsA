{
 "cells": [
  {
   "cell_type": "code",
   "execution_count": 2,
   "metadata": {},
   "outputs": [
    {
     "name": "stdout",
     "output_type": "stream",
     "text": [
      "c:\\Users\\gabri\\OneDrive - Danmarks Tekniske Universitet\\Lokale Filer\\DTU\\Forår 2023\\Fagprojekt\n",
      "Previous import statement didn't work. Changing cwd to parent directory.\n"
     ]
    },
    {
     "ename": "ModuleNotFoundError",
     "evalue": "No module named 'IRM_generative_torch'",
     "output_type": "error",
     "traceback": [
      "\u001b[1;31m---------------------------------------------------------------------------\u001b[0m",
      "\u001b[1;31mModuleNotFoundError\u001b[0m                       Traceback (most recent call last)",
      "Cell \u001b[1;32mIn[2], line 12\u001b[0m\n\u001b[0;32m      9\u001b[0m     \u001b[39mprint\u001b[39m(\u001b[39m\"\u001b[39m\u001b[39mPrevious import statement didn\u001b[39m\u001b[39m'\u001b[39m\u001b[39mt work. Changing cwd to parent directory.\u001b[39m\u001b[39m\"\u001b[39m)\n\u001b[0;32m     10\u001b[0m     os\u001b[39m.\u001b[39mchdir(\u001b[39m\"\u001b[39m\u001b[39m..\u001b[39m\u001b[39m\"\u001b[39m)\n\u001b[1;32m---> 12\u001b[0m \u001b[39mfrom\u001b[39;00m \u001b[39mIRM_generative_torch\u001b[39;00m \u001b[39mimport\u001b[39;00m IRM_graph, clusterIndex\n\u001b[0;32m     13\u001b[0m \u001b[39mfrom\u001b[39;00m \u001b[39mIRM_post\u001b[39;00m \u001b[39mimport\u001b[39;00m Cmatrix_to_array, torch_posterior\n\u001b[0;32m     14\u001b[0m \u001b[39mimport\u001b[39;00m \u001b[39mmatplotlib\u001b[39;00m\u001b[39m.\u001b[39;00m\u001b[39mpyplot\u001b[39;00m \u001b[39mas\u001b[39;00m \u001b[39mplt\u001b[39;00m\n",
      "\u001b[1;31mModuleNotFoundError\u001b[0m: No module named 'IRM_generative_torch'"
     ]
    }
   ],
   "source": [
    "import os\n",
    "# path_parent = os.path.dirname(os.getcwd())\n",
    "# os.chdir(path_parent)\n",
    "print(os.getcwd())\n",
    "import torch\n",
    "try:\n",
    "    from GraphClustering.Network.Network import GraphNet #from Network.Network import GraphNet\n",
    "except:\n",
    "    print(\"Previous import statement didn't work. Changing cwd to parent directory.\")\n",
    "    os.chdir(\"..\")\n",
    "\n",
    "from IRM_generative_torch import IRM_graph, clusterIndex\n",
    "from IRM_post import Cmatrix_to_array, torch_posterior\n",
    "import matplotlib.pyplot as plt"
   ]
  },
  {
   "cell_type": "markdown",
   "metadata": {},
   "source": [
    "The number of nodes is the only parameter with no default, so the graph must be created before the network. Here we create a synthetic graph generated from the stochastic processes we assume formed the graph in the IRM model."
   ]
  },
  {
   "cell_type": "code",
   "execution_count": 2,
   "metadata": {},
   "outputs": [],
   "source": [
    "N =  20 \n",
    "adjacency_matrix, clusters = IRM_graph(3, 0.5, 0.5, N = 20)\n",
    "cluster_idxs = clusterIndex(clusters)\n",
    "# Adjacency_matrix describes the graph. \n",
    "# Cluster_idxs is the ground truth and was used to form the graph.\n",
    "# idxs = torch.random.permutation(torch.arange(N))\n",
    "idxs = torch.randperm(N, dtype=torch.int64)\n",
    "A_random = adjacency_matrix[idxs][:, idxs] \n",
    "cluster_random = cluster_idxs[idxs]\n",
    "\n",
    "plt.figure()\n",
    "plt.imshow(adjacency_matrix, cmap='gray')\n",
    "plt.show()\n",
    "\n",
    "plt.figure()\n",
    "plt.imshow(A_random, cmap='gray')\n",
    "plt.show()\n"
   ]
  },
  {
   "cell_type": "markdown",
   "metadata": {},
   "source": [
    "Network is created as so:"
   ]
  },
  {
   "cell_type": "code",
   "execution_count": 3,
   "metadata": {},
   "outputs": [],
   "source": [
    "net = GraphNet(n_nodes=adjacency_matrix.size()[0])"
   ]
  },
  {
   "cell_type": "markdown",
   "metadata": {},
   "source": [
    "The input to the network is a vector of length 2 * (n_nodes ^ 2) + n_nodes. The first n_nodes^2 is the adjacency matrix, the next is the clustering matrix specifying which nodes are in the same cluster and the final n_nodes indicate which node was most recently placed into a cluster."
   ]
  },
  {
   "cell_type": "code",
   "execution_count": 4,
   "metadata": {},
   "outputs": [
    {
     "name": "stderr",
     "output_type": "stream",
     "text": [
      "C:\\Users\\Gabriel\\AppData\\Local\\Temp\\ipykernel_15888\\3200748138.py:5: UserWarning: To copy construct from a tensor, it is recommended to use sourceTensor.clone().detach() or sourceTensor.clone().detach().requires_grad_(True), rather than torch.tensor(sourceTensor).\n",
      "  b = torch.concat((torch.tensor(adjacency_matrix).flatten(), torch.tensor(clustering_mat).flatten(), last_node_placed))\n"
     ]
    }
   ],
   "source": [
    "clustering_list = torch.tensor([1, 1, 2, 3, 0])\n",
    "clustering_mat = net.get_clustering_matrix(clustering_list, 4)\n",
    "last_node_placed = torch.zeros(5)\n",
    "last_node_placed[3] = 1\n",
    "b = torch.concat((torch.tensor(adjacency_matrix).flatten(), torch.tensor(clustering_mat).flatten(), last_node_placed))"
   ]
  },
  {
   "cell_type": "markdown",
   "metadata": {},
   "source": [
    "To train, one must first sample a number of clusterings using sample_forward, which will sample using the current network along with added randomness. The amount of randomness is set using the parameter 'gamma' when instantiating the network. Default is 0.5"
   ]
  },
  {
   "cell_type": "code",
   "execution_count": 5,
   "metadata": {},
   "outputs": [
    {
     "name": "stderr",
     "output_type": "stream",
     "text": [
      "  0%|          | 0/100 [00:00<?, ?it/s]c:\\Users\\Gabriel\\OneDrive - Danmarks Tekniske Universitet\\Lokale Filer\\DTU\\Forår 2023\\Fagprojekt\\GFlowNetsA\\GraphClustering\\Network\\Network.py:255: UserWarning: To copy construct from a tensor, it is recommended to use sourceTensor.clone().detach() or sourceTensor.clone().detach().requires_grad_(True), rather than torch.tensor(sourceTensor).\n",
      "  clustering_list[node_chosen] = torch.tensor(cluster_index_chosen + 1, dtype=torch.float32)\n",
      "100%|██████████| 100/100 [00:51<00:00,  1.94it/s]\n",
      "100%|██████████| 10/10 [09:25<00:00, 56.59s/it]\n"
     ]
    }
   ],
   "source": [
    "X = net.sample_forward(adjacency_matrix=adjacency_matrix)\n",
    "net.train(X, epochs=10)"
   ]
  },
  {
   "cell_type": "markdown",
   "metadata": {},
   "source": [
    "Once finished, sampling again will produce different results. If you only want complete clusterings, set the net property 'termination_chance' to 0."
   ]
  },
  {
   "cell_type": "code",
   "execution_count": 6,
   "metadata": {},
   "outputs": [
    {
     "name": "stderr",
     "output_type": "stream",
     "text": [
      "100%|██████████| 100/100 [01:31<00:00,  1.09it/s]\n"
     ]
    }
   ],
   "source": [
    "net.termination_chance = 0\n",
    "X1 = net.sample_forward(adjacency_matrix)"
   ]
  },
  {
   "cell_type": "markdown",
   "metadata": {},
   "source": [
    "These new samples have the same length as the input to the network, so use indexing to get the clustering matrix or use the method of the GraphNet class called get_matrices_from_state"
   ]
  },
  {
   "cell_type": "code",
   "execution_count": 7,
   "metadata": {},
   "outputs": [
    {
     "name": "stderr",
     "output_type": "stream",
     "text": [
      "c:\\Users\\Gabriel\\OneDrive - Danmarks Tekniske Universitet\\Lokale Filer\\DTU\\Forår 2023\\Fagprojekt\\GFlowNetsA\\GraphClustering\\Network\\..\\IRM_post.py:87: UserWarning: To copy construct from a tensor, it is recommended to use sourceTensor.clone().detach() or sourceTensor.clone().detach().requires_grad_(True), rather than torch.tensor(sourceTensor).\n",
      "  C = torch.t_copy(torch.tensor(C_in, dtype=torch.int32))\n"
     ]
    },
    {
     "name": "stdout",
     "output_type": "stream",
     "text": [
      "tensor(-inf, dtype=torch.float64) should be lower than tensor(-156632.4020, dtype=torch.float64) given we sample enough. \n",
      "\n"
     ]
    }
   ],
   "source": [
    "pretrain_clusterings = []\n",
    "av_post_pretrain = 0\n",
    "for x in X:\n",
    "    pretrain_clusterings.append(net.get_matrices_from_state(x)[1])\n",
    "    av_post_pretrain += torch_posterior(A_random, net.get_clustering_list(pretrain_clusterings[-1])[0],\n",
    "                                        a=torch.ones(1), b=torch.ones(1), alpha = 1, log=True) \n",
    "\n",
    "posttrain_clusterings = []\n",
    "av_post_posttrain = 0\n",
    "for x in X1:\n",
    "    posttrain_clusterings.append(net.get_matrices_from_state(x)[1])\n",
    "    av_post_posttrain += torch_posterior(A_random, net.get_clustering_list(posttrain_clusterings[-1])[0],\n",
    "                                         a=torch.ones(1), b=torch.ones(1), alpha = 1, log=True) \n",
    "\n",
    "print(av_post_pretrain, \"should be lower than\", av_post_posttrain, \"given we sample enough. \\n\" )\n"
   ]
  },
  {
   "cell_type": "code",
   "execution_count": 31,
   "metadata": {},
   "outputs": [
    {
     "name": "stderr",
     "output_type": "stream",
     "text": [
      "100%|██████████| 1/1 [00:00<00:00,  1.21it/s]\n"
     ]
    },
    {
     "name": "stdout",
     "output_type": "stream",
     "text": [
      "(tensor([1., 2., 1., 0., 3., 1., 1., 1., 2., 2., 4., 2., 2., 3., 3., 3., 1., 5.,\n",
      "        1., 4.]), 6)\n"
     ]
    },
    {
     "data": {
      "image/png": "[encoded data removed]",
      "text/plain": [
       "<Figure size 640x480 with 1 Axes>"
      ]
     },
     "metadata": {},
     "output_type": "display_data"
    },
    {
     "data": {
      "image/png": "[encoded data removed]",
      "text/plain": [
       "<Figure size 640x480 with 1 Axes>"
      ]
     },
     "metadata": {},
     "output_type": "display_data"
    },
    {
     "data": {
      "image/png": "[encoded data removed]",
      "text/plain": [
       "<Figure size 640x480 with 1 Axes>"
      ]
     },
     "metadata": {},
     "output_type": "display_data"
    }
   ],
   "source": [
    "net.termination_chance = 0\n",
    "X = net.sample_forward(adjacency_matrix=adjacency_matrix)\n",
    "net.train(X, epochs=10)\n",
    "X1 = net.sample_forward(adjacency_matrix=adjacency_matrix, epochs= 1000)\n",
    "posttrain_clusterings = []\n",
    "posteriors = []\n",
    "av_post_posttrain = 0\n",
    "\n",
    "for x in X1:\n",
    "    posttrain_clusterings.append(net.get_matrices_from_state(x)[1])\n",
    "    posteriors.append(torch_posterior(A_random, net.get_clustering_list(posttrain_clusterings[-1])[0],\n",
    "                                         a=torch.ones(1), b=torch.ones(1), alpha = 1, log=True))\n",
    "av_post_posttrain = torch.mean(torch.FloatTensor(posteriors)) \n",
    "best_clustering = net.get_clustering_list(posttrain_clusterings[torch.argmax(torch.FloatTensor(posteriors))]) \n",
    "print(best_clustering)\n",
    "c_idxs = torch.argsort(best_clustering[0])\n",
    "\n",
    "plt.figure()\n",
    "plt.imshow(A_random, cmap='gray')\n",
    "plt.show()\n",
    "\n",
    "plt.figure()\n",
    "plt.imshow(A_random[c_idxs][:, c_idxs], cmap='gray')\n",
    "plt.show()\n",
    "\n",
    "plt.figure()\n",
    "plt.imshow(adjacency_matrix, cmap='gray')\n",
    "plt.show()\n"
   ]
  }
 ],
 "metadata": {
  "kernelspec": {
   "display_name": "Python 3 (ipykernel)",
   "language": "python",
   "name": "python3"
  },
  "language_info": {
   "codemirror_mode": {
    "name": "ipython",
    "version": 3
   },
   "file_extension": ".py",
   "mimetype": "text/x-python",
   "name": "python",
   "nbconvert_exporter": "python",
   "pygments_lexer": "ipython3",
   "version": "3.9.16"
  }
 },
 "nbformat": 4,
 "nbformat_minor": 1
}
